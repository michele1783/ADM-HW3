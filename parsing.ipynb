{
  "nbformat": 4,
  "nbformat_minor": 0,
  "metadata": {
    "colab": {
      "name": "parsing.ipynb",
      "provenance": [],
      "collapsed_sections": [],
      "authorship_tag": "ABX9TyMq3kw6L8M/yYB/K2IHDe3J",
      "include_colab_link": true
    },
    "kernelspec": {
      "name": "python3",
      "display_name": "Python 3"
    },
    "language_info": {
      "name": "python"
    }
  },
  "cells": [
    {
      "cell_type": "markdown",
      "metadata": {
        "id": "view-in-github",
        "colab_type": "text"
      },
      "source": [
        "<a href=\"https://colab.research.google.com/github/michele1783/ADM-HW3/blob/main/parsing.ipynb\" target=\"_parent\"><img src=\"https://colab.research.google.com/assets/colab-badge.svg\" alt=\"Open In Colab\"/></a>"
      ]
    },
    {
      "cell_type": "code",
      "metadata": {
        "id": "cJaXHUNgjPZu"
      },
      "source": [
        "from google.colab import drive"
      ],
      "execution_count": 1,
      "outputs": []
    },
    {
      "cell_type": "code",
      "metadata": {
        "id": "_-YcLIt3jR6s"
      },
      "source": [
        "from google.colab import files"
      ],
      "execution_count": 2,
      "outputs": []
    },
    {
      "cell_type": "code",
      "metadata": {
        "id": "ifjdtXVntCFY"
      },
      "source": [
        "import requests\n",
        "from bs4 import BeautifulSoup\n",
        "import shutil\n",
        "\n",
        "\n",
        "import csv"
      ],
      "execution_count": 84,
      "outputs": []
    },
    {
      "cell_type": "code",
      "metadata": {
        "id": "kEUo7H7MXWrP"
      },
      "source": [
        "def extractData(pagePath):\n",
        "    with open(pagePath, encoding=\"utf-8\") as fp:\n",
        "        soup = BeautifulSoup(fp, \"html.parser\")\n",
        "        animeTitle = \" \".join((soup.html.head.title.text).split())\n",
        "        \n",
        "        #print(\"animeTitle: \", animeTitle)\n",
        "        animeInfo = (soup.find_all(\"div\",  attrs={ \"class\" : \"spaceit_pad\"}))\n",
        "        #print(\"Animeinfo: \", animeInfo)\n",
        "        \n",
        "        animeType = \" \".join((findField(animeInfo, \"Type:\").a.text).split())\n",
        "        #print(\"animeType :\", animeType)\n",
        "        \n",
        "        animeNumEpisode = int(list(filter(lambda y: y != '',list(map(lambda x: \" \".join((x).split()),findField(animeInfo, \"Episodes:\").findAll(text=True, recursive=False)) )))[0])\n",
        "        #print(\"animeNumEpisode: \", animeNumEpisode)\n",
        "        \n",
        "        aired = list(filter(lambda y: y != '',list(map(lambda x: \" \".join((x).split()),findField(animeInfo, \"Aired:\").findAll(text=True, recursive=False)) )))[0].split('to')\n",
        "        releaseDate = datetime.datetime(int(aired[0].split()[2]), months.index(aired[0].split()[0])+1 , int(aired[0].split()[1][:1]))\n",
        "        if len(aired) == 2:\n",
        "            endDate = datetime.datetime(int(aired[1].split()[2]), months.index(aired[1].split()[0])+1 , int(aired[1].split()[1][:1]))\n",
        "        else:\n",
        "            endDate = \"\"\n",
        "        #print(\"releaseDate: \", releaseDate)\n",
        "        #print(\"endDate: \", endDate)\n",
        "        \n",
        "        animeNumMembers = int(list(filter(lambda y: y != '',list(map(lambda x: \" \".join((x).split()),findField(animeInfo, \"Members:\").findAll(text=True, recursive=False)) )))[0].replace(\",\", \"\"))\n",
        "        #print(\"animeNumMembers: \", animeNumMembers)\n",
        "        \n",
        "        animeScore = float(\" \".join((soup.find_all(\"span\", itemprop = \"ratingValue\")[0].text).split()))\n",
        "        #print(\"animeScore: \", animeScore)\n",
        "        \n",
        "        animeUsers = int(\" \".join((soup.find_all(\"span\", itemprop = \"ratingCount\")[0].text).split()))\n",
        "        #print(\"animeUsers: \", animeUsers)\n",
        "        \n",
        "        animeRank = int(list(filter(lambda x: x[0] == '#',findField(animeInfo, \"Ranked:\").text.split()))[0].replace('#',''))\n",
        "        #print(\"animeRank: \", animeRank)\n",
        "\n",
        "        animePopularity = int(list(filter(lambda y: y != '',list(map(lambda x: \" \".join((x).split()),findField(animeInfo, \"Popularity:\").findAll(text=True, recursive=False)) )))[0].replace(\"#\", \"\"))\n",
        "        #print(\"animePopularity: \", animePopularity)\n",
        "        \n",
        "        animeDescription = soup.find_all(\"p\", itemprop = \"description\")[0].text.strip().replace('\\n', '').replace('  ', '')\n",
        "        #print(\"animeDescription: \", animeDescription)\n",
        "        \n",
        "        animeRelatedAHref = soup.find(name=\"table\",attrs={\"class\":\"anime_detail_related_anime\"}).findChildren('a', href=True)\n",
        "        animeRelated = []\n",
        "        for x in animeRelatedAHref:\n",
        "            aux = \" \".join((x.text).split())\n",
        "            if aux not in animeRelated:\n",
        "                animeRelated.append(aux)\n",
        "        #print(\"animeRelated: \", animeRelated)\n",
        "        \n",
        "        animeCharactersRaw = soup.find_all(\"h3\", attrs={\"class\" : \"h3_characters_voice_actors\"})\n",
        "        animeCharacters = []\n",
        "        for x in animeCharactersRaw:\n",
        "            animeCharacters.append(\" \".join((x.text).split()))\n",
        "        #print(\"animeCharacters: \", animeCharacters)\n",
        "        \n",
        "        animeVoicesRaw = soup.find_all(\"td\", attrs={\"class\" : \"va-t ar pl4 pr4\"})\n",
        "        animeVoices = []\n",
        "        for x in animeVoicesRaw:\n",
        "            animeVoices.append(\" \".join((x.contents[1].text).split()))\n",
        "        #print(\"animeVoices: \", animeVoices)\n",
        "        \n",
        "        animeStaff = \"\"\n",
        "        if(len(soup.find_all(\"div\", attrs={\"class\" : \"detail-characters-list clearfix\"})) == 2):\n",
        "            aux = soup.find_all(\"div\", attrs={\"class\" : \"detail-characters-list clearfix\"})[1]\n",
        "            animeStaffRaw = []\n",
        "            for x in aux.findChildren('a'):\n",
        "                if (\" \".join((x.text).split()) != ''):\n",
        "                    animeStaffRaw.append(\" \".join((x.text).split()))\n",
        "            animeStaffTaskRaw = []\n",
        "            for x in aux.findChildren('small'):\n",
        "                animeStaffTaskRaw.append(\" \".join((x.text).split()))\n",
        "            #print(\"animeStaffRaw: \", animeStaffRaw)\n",
        "            #print(\"animeStaffTaskRaw: \", animeStaffTaskRaw)\n",
        "            animeStaff = [list(a) for a in zip(animeStaffRaw, animeStaffTaskRaw)]\n",
        "\n",
        "        \n",
        "        #print(\"animeStaff: \", animeStaff)\n",
        "        \n",
        "        return [animeTitle, animeType, animeNumEpisode, releaseDate, endDate, animeNumMembers, animeScore, animeUsers, animeRank, animePopularity, animeDescription, animeRelated, animeCharacters, animeVoices, animeStaff]"
      ],
      "execution_count": 87,
      "outputs": []
    },
    {
      "cell_type": "code",
      "metadata": {
        "colab": {
          "base_uri": "https://localhost:8080/"
        },
        "id": "Kynt3po2jUi2",
        "outputId": "bbb2d8ab-ff48-4767-e765-478e7480ac3a"
      },
      "source": [
        "drive.mount('/content/drive')"
      ],
      "execution_count": 3,
      "outputs": [
        {
          "output_type": "stream",
          "name": "stdout",
          "text": [
            "Mounted at /content/drive\n"
          ]
        }
      ]
    },
    {
      "cell_type": "code",
      "metadata": {
        "id": "GT8qt2atjcJ2"
      },
      "source": [
        "path = '/content/drive/MyDrive/ADM-HW3/DM'\n",
        "urls = '/content/drive/MyDrive/ADM-HW3/urls.txt'"
      ],
      "execution_count": 72,
      "outputs": []
    },
    {
      "cell_type": "code",
      "metadata": {
        "id": "yzICwWBV71oT"
      },
      "source": [
        "a = open(urls, \"r\")\n",
        "enum = enumerate(a)\n",
        "d=dict((i,j) for i,j in enum)"
      ],
      "execution_count": 49,
      "outputs": []
    },
    {
      "cell_type": "code",
      "metadata": {
        "id": "YPMBlTMRj0Yk"
      },
      "source": [
        "import os\n",
        "k = 9950\n",
        "for i in range(200,401):\n",
        "    for j in range(1,51):\n",
        "      k = k + 1\n",
        "      try:\n",
        "        file_size = os.path.getsize(path +  \"/cartella{}/page_{}.html\".format(i, k))\n",
        "      except FileNotFoundError: \n",
        "          page = requests.get(d[k])\n",
        "          soup = BeautifulSoup(page.content, features =\"lxml\")\n",
        "          f = open(\"page_{}.html\".format(k), \"w\")\n",
        "          f.write(soup.prettify())\n",
        "          shutil.move(\"page_{}.html\".format(k), path + \"/cartella{}\".format(i))\n",
        "          f.close()\n",
        "      if file_size < 50000:\n",
        "          os.remove(path +  \"/cartella{}/page_{}.html\".format(i, k))\n",
        "          page = requests.get(d[k])\n",
        "          soup = BeautifulSoup(page.content, features =\"lxml\")\n",
        "          f = open(\"page_{}.html\".format(k), \"w\")\n",
        "          f.write(soup.prettify())\n",
        "          shutil.move(\"page_{}.html\".format(k), path + \"/cartella{}\".format(i))\n",
        "          f.close()\n",
        "          break\n",
        "\n",
        "\n"
      ],
      "execution_count": 81,
      "outputs": []
    },
    {
      "cell_type": "code",
      "metadata": {
        "id": "qEtWIcbCHlt_"
      },
      "source": [
        "path = '/content/drive/MyDrive/ADM-HW3/nFolders400'"
      ],
      "execution_count": 69,
      "outputs": []
    },
    {
      "cell_type": "code",
      "metadata": {
        "id": "8xIaNgPiHv1D"
      },
      "source": [
        "import os\n",
        "k = 0\n",
        "for i in range(1,200):\n",
        "    for j in range(1,51):\n",
        "      k = k + 1\n",
        "      try:\n",
        "        file_size = os.path.getsize(path +  \"/cartella{}/page_{}.html\".format(i, k))\n",
        "      except FileNotFoundError: \n",
        "          page = requests.get(d[k])\n",
        "          soup = BeautifulSoup(page.content, features =\"lxml\")\n",
        "          f = open(\"page_{}.html\".format(k), \"w\")\n",
        "          f.write(soup.prettify())\n",
        "          shutil.move(\"page_{}.html\".format(k), path + \"/cartella{}\".format(i))\n",
        "          f.close()\n",
        "      if file_size < 50000:\n",
        "          os.remove(path +  \"/cartella{}/page_{}.html\".format(i, k))\n",
        "          page = requests.get(d[k])\n",
        "          soup = BeautifulSoup(page.content, features =\"lxml\")\n",
        "          f = open(\"page_{}.html\".format(k), \"w\")\n",
        "          f.write(soup.prettify())\n",
        "          shutil.move(\"page_{}.html\".format(k), path + \"/cartella{}\".format(i))\n",
        "          f.close()\n",
        "          break"
      ],
      "execution_count": 70,
      "outputs": []
    },
    {
      "cell_type": "code",
      "metadata": {
        "id": "tfRFQgFoXvcz"
      },
      "source": [
        "path_1 = '/content/drive/MyDrive/ADM-HW3/DM'"
      ],
      "execution_count": 103,
      "outputs": []
    },
    {
      "cell_type": "code",
      "metadata": {
        "id": "4AW2ra3EXwED"
      },
      "source": [
        "def findField(array, word):\n",
        "    for x in array:\n",
        "        #print(\"#####################################\")\n",
        "        #print(\" \".join((x.find(\"span\").text).split()))\n",
        "        #print(\"#####################################\")\n",
        "        if \" \".join((x.find(\"span\").text).split()) == word:\n",
        "            return x\n",
        "    return -1"
      ],
      "execution_count": 98,
      "outputs": []
    },
    {
      "cell_type": "code",
      "metadata": {
        "id": "lVcE5OA6Zuu3"
      },
      "source": [
        "import datetime"
      ],
      "execution_count": 102,
      "outputs": []
    },
    {
      "cell_type": "code",
      "metadata": {
        "colab": {
          "base_uri": "https://localhost:8080/",
          "height": 844
        },
        "id": "H0NDsDeWWmww",
        "outputId": "c8278c5c-8461-4ba9-8ad6-7eb17c0f7b30"
      },
      "source": [
        "nFolders = 400\n",
        "c = 9950\n",
        "url_file = urls\n",
        "num_lines = sum(1 for line in open(url_file))\n",
        "pagesPerFolder = num_lines/nFolders\n",
        "outputTSV = \"dataset.tsv\"\n",
        "\n",
        "months = ['Jan', 'Feb', 'Mar', 'Apr', 'May', 'Jun','Jul', 'Aug', 'Sep', 'Oct', 'Nov', 'Dec']\n",
        "with open(outputTSV, 'wt') as out_file:\n",
        "    tsv_writer = csv.writer(out_file, delimiter='\\t')\n",
        "    tsv_writer.writerow([\"animeTitle\", \"animeType\", \"animeNumEpisode\", \"releaseDate\", \"endDate\", \"animeNumMembers\", \"animeScore\", \"animeUsers\", \"animeRank\", \"animePopularity\", \"animeDescription\", \"animeRelated\", \"animeCharacters\", \"animeVoices\", \"animeStaff\"])\n",
        "    for x in range(9951, 20000 +1):\n",
        "\n",
        "        number = int(c/(pagesPerFolder)) + 1\n",
        "        path = path_1 + \"/cartella{}\".format(number) + \"/page_{}.html\".format(c+1)\n",
        "        print(\"path: \", path)\n",
        "        tsv_writer.writerow(extractData(path))\n",
        "        c = c + 1"
      ],
      "execution_count": 105,
      "outputs": [
        {
          "output_type": "stream",
          "name": "stdout",
          "text": [
            "path:  /content/drive/MyDrive/ADM-HW3/DM/cartella200/page_9951.html\n",
            "path:  /content/drive/MyDrive/ADM-HW3/DM/cartella200/page_9952.html\n",
            "path:  /content/drive/MyDrive/ADM-HW3/DM/cartella200/page_9953.html\n",
            "path:  /content/drive/MyDrive/ADM-HW3/DM/cartella200/page_9954.html\n",
            "path:  /content/drive/MyDrive/ADM-HW3/DM/cartella200/page_9955.html\n",
            "path:  /content/drive/MyDrive/ADM-HW3/DM/cartella200/page_9956.html\n",
            "path:  /content/drive/MyDrive/ADM-HW3/DM/cartella200/page_9957.html\n",
            "path:  /content/drive/MyDrive/ADM-HW3/DM/cartella200/page_9958.html\n",
            "path:  /content/drive/MyDrive/ADM-HW3/DM/cartella200/page_9959.html\n",
            "path:  /content/drive/MyDrive/ADM-HW3/DM/cartella200/page_9960.html\n",
            "path:  /content/drive/MyDrive/ADM-HW3/DM/cartella200/page_9961.html\n",
            "path:  /content/drive/MyDrive/ADM-HW3/DM/cartella200/page_9962.html\n",
            "path:  /content/drive/MyDrive/ADM-HW3/DM/cartella200/page_9963.html\n",
            "path:  /content/drive/MyDrive/ADM-HW3/DM/cartella200/page_9964.html\n",
            "path:  /content/drive/MyDrive/ADM-HW3/DM/cartella200/page_9965.html\n",
            "path:  /content/drive/MyDrive/ADM-HW3/DM/cartella200/page_9966.html\n",
            "path:  /content/drive/MyDrive/ADM-HW3/DM/cartella200/page_9967.html\n",
            "path:  /content/drive/MyDrive/ADM-HW3/DM/cartella200/page_9968.html\n",
            "path:  /content/drive/MyDrive/ADM-HW3/DM/cartella200/page_9969.html\n",
            "path:  /content/drive/MyDrive/ADM-HW3/DM/cartella200/page_9970.html\n",
            "path:  /content/drive/MyDrive/ADM-HW3/DM/cartella200/page_9971.html\n",
            "path:  /content/drive/MyDrive/ADM-HW3/DM/cartella200/page_9972.html\n",
            "path:  /content/drive/MyDrive/ADM-HW3/DM/cartella200/page_9973.html\n",
            "path:  /content/drive/MyDrive/ADM-HW3/DM/cartella200/page_9974.html\n",
            "path:  /content/drive/MyDrive/ADM-HW3/DM/cartella200/page_9975.html\n",
            "path:  /content/drive/MyDrive/ADM-HW3/DM/cartella200/page_9976.html\n",
            "path:  /content/drive/MyDrive/ADM-HW3/DM/cartella200/page_9977.html\n",
            "path:  /content/drive/MyDrive/ADM-HW3/DM/cartella200/page_9978.html\n",
            "path:  /content/drive/MyDrive/ADM-HW3/DM/cartella200/page_9979.html\n",
            "path:  /content/drive/MyDrive/ADM-HW3/DM/cartella200/page_9980.html\n"
          ]
        },
        {
          "output_type": "error",
          "ename": "AttributeError",
          "evalue": "ignored",
          "traceback": [
            "\u001b[0;31m---------------------------------------------------------------------------\u001b[0m",
            "\u001b[0;31mAttributeError\u001b[0m                            Traceback (most recent call last)",
            "\u001b[0;32m<ipython-input-105-385ae554c712>\u001b[0m in \u001b[0;36m<module>\u001b[0;34m()\u001b[0m\n\u001b[1;32m     15\u001b[0m         \u001b[0mpath\u001b[0m \u001b[0;34m=\u001b[0m \u001b[0mpath_1\u001b[0m \u001b[0;34m+\u001b[0m \u001b[0;34m\"/cartella{}\"\u001b[0m\u001b[0;34m.\u001b[0m\u001b[0mformat\u001b[0m\u001b[0;34m(\u001b[0m\u001b[0mnumber\u001b[0m\u001b[0;34m)\u001b[0m \u001b[0;34m+\u001b[0m \u001b[0;34m\"/page_{}.html\"\u001b[0m\u001b[0;34m.\u001b[0m\u001b[0mformat\u001b[0m\u001b[0;34m(\u001b[0m\u001b[0mc\u001b[0m\u001b[0;34m+\u001b[0m\u001b[0;36m1\u001b[0m\u001b[0;34m)\u001b[0m\u001b[0;34m\u001b[0m\u001b[0;34m\u001b[0m\u001b[0m\n\u001b[1;32m     16\u001b[0m         \u001b[0mprint\u001b[0m\u001b[0;34m(\u001b[0m\u001b[0;34m\"path: \"\u001b[0m\u001b[0;34m,\u001b[0m \u001b[0mpath\u001b[0m\u001b[0;34m)\u001b[0m\u001b[0;34m\u001b[0m\u001b[0;34m\u001b[0m\u001b[0m\n\u001b[0;32m---> 17\u001b[0;31m         \u001b[0mtsv_writer\u001b[0m\u001b[0;34m.\u001b[0m\u001b[0mwriterow\u001b[0m\u001b[0;34m(\u001b[0m\u001b[0mextractData\u001b[0m\u001b[0;34m(\u001b[0m\u001b[0mpath\u001b[0m\u001b[0;34m)\u001b[0m\u001b[0;34m)\u001b[0m\u001b[0;34m\u001b[0m\u001b[0;34m\u001b[0m\u001b[0m\n\u001b[0m\u001b[1;32m     18\u001b[0m         \u001b[0mc\u001b[0m \u001b[0;34m=\u001b[0m \u001b[0mc\u001b[0m \u001b[0;34m+\u001b[0m \u001b[0;36m1\u001b[0m\u001b[0;34m\u001b[0m\u001b[0;34m\u001b[0m\u001b[0m\n",
            "\u001b[0;32m<ipython-input-87-c5c5dd87707b>\u001b[0m in \u001b[0;36mextractData\u001b[0;34m(pagePath)\u001b[0m\n\u001b[1;32m     41\u001b[0m         \u001b[0;31m#print(\"animeDescription: \", animeDescription)\u001b[0m\u001b[0;34m\u001b[0m\u001b[0;34m\u001b[0m\u001b[0;34m\u001b[0m\u001b[0m\n\u001b[1;32m     42\u001b[0m \u001b[0;34m\u001b[0m\u001b[0m\n\u001b[0;32m---> 43\u001b[0;31m         \u001b[0manimeRelatedAHref\u001b[0m \u001b[0;34m=\u001b[0m \u001b[0msoup\u001b[0m\u001b[0;34m.\u001b[0m\u001b[0mfind\u001b[0m\u001b[0;34m(\u001b[0m\u001b[0mname\u001b[0m\u001b[0;34m=\u001b[0m\u001b[0;34m\"table\"\u001b[0m\u001b[0;34m,\u001b[0m\u001b[0mattrs\u001b[0m\u001b[0;34m=\u001b[0m\u001b[0;34m{\u001b[0m\u001b[0;34m\"class\"\u001b[0m\u001b[0;34m:\u001b[0m\u001b[0;34m\"anime_detail_related_anime\"\u001b[0m\u001b[0;34m}\u001b[0m\u001b[0;34m)\u001b[0m\u001b[0;34m.\u001b[0m\u001b[0mfindChildren\u001b[0m\u001b[0;34m(\u001b[0m\u001b[0;34m'a'\u001b[0m\u001b[0;34m,\u001b[0m \u001b[0mhref\u001b[0m\u001b[0;34m=\u001b[0m\u001b[0;32mTrue\u001b[0m\u001b[0;34m)\u001b[0m\u001b[0;34m\u001b[0m\u001b[0;34m\u001b[0m\u001b[0m\n\u001b[0m\u001b[1;32m     44\u001b[0m         \u001b[0manimeRelated\u001b[0m \u001b[0;34m=\u001b[0m \u001b[0;34m[\u001b[0m\u001b[0;34m]\u001b[0m\u001b[0;34m\u001b[0m\u001b[0;34m\u001b[0m\u001b[0m\n\u001b[1;32m     45\u001b[0m         \u001b[0;32mfor\u001b[0m \u001b[0mx\u001b[0m \u001b[0;32min\u001b[0m \u001b[0manimeRelatedAHref\u001b[0m\u001b[0;34m:\u001b[0m\u001b[0;34m\u001b[0m\u001b[0;34m\u001b[0m\u001b[0m\n",
            "\u001b[0;31mAttributeError\u001b[0m: 'NoneType' object has no attribute 'findChildren'"
          ]
        }
      ]
    },
    {
      "cell_type": "code",
      "metadata": {
        "colab": {
          "base_uri": "https://localhost:8080/"
        },
        "id": "J0n52xtWYdXf",
        "outputId": "36a05122-e024-4043-ddc6-4b695d22f6db"
      },
      "source": [
        "nFolders = 400\n",
        "c = 200\n",
        "url_file = urls\n",
        "num_lines = sum(1 for line in open(url_file))\n",
        "pagesPerFolder = num_lines/nFolders\n",
        "outputTSV = \"dataset.tsv\"\n",
        "print(pagesPerFolder)"
      ],
      "execution_count": 94,
      "outputs": [
        {
          "output_type": "stream",
          "name": "stdout",
          "text": [
            "50.0\n"
          ]
        }
      ]
    }
  ]
}