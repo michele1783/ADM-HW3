{
 "cells": [
  {
   "cell_type": "code",
   "execution_count": 6,
   "metadata": {},
   "outputs": [],
   "source": [
    "import requests\n",
    "from tqdm import tqdm\n",
    "from bs4 import BeautifulSoup\n",
    "from pathlib import Path\n",
    "import lxml\n",
    "import shutil\n",
    "import functions as fun"
   ]
  },
  {
   "cell_type": "code",
   "execution_count": 22,
   "metadata": {},
   "outputs": [
    {
     "name": "stderr",
     "output_type": "stream",
     "text": [
      "100%|██████████| 400/400 [05:44<00:00,  1.16it/s]\n",
      "100%|██████████| 20000/20000 [00:00<00:00, 681751.23it/s]\n"
     ]
    }
   ],
   "source": [
    "anime = []\n",
    "for page in tqdm(range(0,400)):\n",
    "    url = \"https://myanimelist.net/topanime.php?limit \" +str(page *50)\n",
    "    response = requests.get(url)\n",
    "    soup = BeautifulSoup(response.text, \"html.parser\")\n",
    "    for tag in soup.find_all(\"tr\"):#cerco le righe della tabella\n",
    "        links = tag.find_all(\"a\")\n",
    "        for link in links:\n",
    "            if type(link.get(\"id\")) == str and len(link.contents[0]) >1:\n",
    "                anime.append((link.get(\"href\")))\n",
    "with open('urls.txt', 'w') as f:\n",
    "    for item in tqdm(anime):\n",
    "        f.write(\"%s\\n\" % item)      \n",
    "            \n"
   ]
  },
  {
   "cell_type": "code",
   "execution_count": 24,
   "metadata": {},
   "outputs": [
    {
     "data": {
      "text/plain": [
       "20000"
      ]
     },
     "execution_count": 24,
     "metadata": {},
     "output_type": "execute_result"
    }
   ],
   "source": [
    "len(anime)"
   ]
  },
  {
   "cell_type": "code",
   "execution_count": null,
   "metadata": {},
   "outputs": [],
   "source": [
    "fun.crawl(\"urls.txt\")\n",
    "    "
   ]
  },
  {
   "cell_type": "code",
   "execution_count": null,
   "metadata": {},
   "outputs": [],
   "source": []
  }
 ],
 "metadata": {
  "kernelspec": {
   "display_name": "Python 3",
   "language": "python",
   "name": "python3"
  },
  "language_info": {
   "codemirror_mode": {
    "name": "ipython",
    "version": 3
   },
   "file_extension": ".py",
   "mimetype": "text/x-python",
   "name": "python",
   "nbconvert_exporter": "python",
   "pygments_lexer": "ipython3",
   "version": "3.8.3"
  }
 },
 "nbformat": 4,
 "nbformat_minor": 4
}
