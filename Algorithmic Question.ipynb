{
 "cells": [
  {
   "cell_type": "code",
   "execution_count": 417,
   "metadata": {},
   "outputs": [],
   "source": [
    "def PersonalT(lista):\n",
    "        #create a new list\n",
    "    parent = []\n",
    "    parent.append(-2)\n",
    "    #Initialiaze the values\n",
    "    sum_not_last_item = 0 #sum \n",
    "    track_last_pos = 0\n",
    "    somma_tot= lista[0]\n",
    "    track_actual_pos = 0\n",
    "    best_start = []\n",
    "    \n",
    "    for i in range(1,len(lista)):\n",
    "        parent.append(track_last_pos)\n",
    "        \n",
    "\n",
    "        last_item = lista[i]\n",
    "\n",
    "\n",
    "        probableSum = max(last_item + sum_not_last_item, last_item)\n",
    "        tPos = track_actual_pos\n",
    "        tSum = somma_tot\n",
    "        \n",
    "        if(probableSum > somma_tot):\n",
    "            somma_tot = probableSum\n",
    "            track_actual_pos = i\n",
    "\n",
    "\n",
    "\n",
    "        sum_not_last_item = tSum\n",
    "        track_last_pos = tPos\n",
    "    \n",
    "    opt = []\n",
    "    #best_start.pop()\n",
    "    for i in best_start:\n",
    "        opt.append(lista[i])\n",
    "    return(\"The optimal solution is to choose: \"+str(opt)+\"  of total duration \"+str(somma_tot))\n",
    "    \n",
    "\n",
    "   \n",
    "\n",
    "\n",
    "    #return(\"The optimal solution is to choose: \"+ str(opt) +\" of total duration \"+str(somma_tot))\n",
    "        \n",
    "\n",
    "    \n"
   ]
  },
  {
   "cell_type": "code",
   "execution_count": 339,
   "metadata": {},
   "outputs": [],
   "source": [
    "# no two elements are adjacent\n",
    "def find_max_sum(arr):\n",
    "    excl = []\n",
    "    incl = []\n",
    "    incl.append(0)\n",
    "    excl.append(0)\n",
    "    new_excl= []\n",
    "    for i in arr:\n",
    "         \n",
    "        # Current max excluding i (No ternary in\n",
    "        # Python)\n",
    "        new_excl.append(excl[-1]) if excl[-1] > incl[-1] else incl[-1]\n",
    "        \n",
    "        # Current max including i\n",
    "        incl.append(excl[-1] + i)\n",
    "        excl.append(new_excl)\n",
    "     \n",
    "    # return max of incl and excl\n",
    "    return (excl[-1] if excl[-1] > incl[-1] else incl[-1])"
   ]
  },
  {
   "cell_type": "code",
   "execution_count": 418,
   "metadata": {},
   "outputs": [
    {
     "data": {
      "text/plain": [
       "'The optimal solution is to choose: []  of total duration 9'"
      ]
     },
     "execution_count": 418,
     "metadata": {},
     "output_type": "execute_result"
    }
   ],
   "source": [
    "PersonalT(a)"
   ]
  },
  {
   "cell_type": "code",
   "execution_count": 438,
   "metadata": {
    "scrolled": true
   },
   "outputs": [
    {
     "name": "stdout",
     "output_type": "stream",
     "text": [
      "incl 4\n",
      "excl 0\n",
      "incl 1\n",
      "excl 4\n",
      "incl 8\n",
      "excl 4\n",
      "incl 5\n",
      "excl 8\n",
      "incl 10\n",
      "excl 8\n",
      "incl 9\n",
      "excl 10\n",
      "[0, 4, 4, 8, 8, 10]\n",
      "[4, 1, 8, 5, 10, 9]\n",
      "[4, 4, 2]\n",
      "10\n"
     ]
    }
   ],
   "source": [
    "def find_max_sum(arr):\n",
    "    incl = 0\n",
    "    excl = 0\n",
    "    j = 0\n",
    "    opt = []\n",
    "    inccc= []\n",
    "    exclll=[]\n",
    "    for i in arr:\n",
    "        j = j + 1\n",
    "        # Current max excluding i (No ternary in\n",
    "        # Python)\n",
    "        new_excl = excl if excl>incl else incl\n",
    "        #print(\"new \" +str(new_excl))\n",
    "        \n",
    "        # Current max including i\n",
    "        incl = excl + i\n",
    "        print(\"incl \" +str(incl))\n",
    "        inccc.append(incl)\n",
    "        excl = new_excl\n",
    "        exclll.append(excl)\n",
    "        print(\"excl \" +str(excl))\n",
    "        if incl > excl:\n",
    "            opt.append(i)\n",
    "        \n",
    "    \n",
    "            \n",
    "\n",
    "    # return max of incl and excl\n",
    "    print(exclll)\n",
    "    print(inccc)\n",
    "    print(opt)\n",
    "    if excl>incl:\n",
    "        exclll.append(excl)\n",
    "        return excl\n",
    "    else:\n",
    "        inccc.append(incl)\n",
    "        return incl\n",
    "    \n",
    "#Driver program to test above function\n",
    "arr = [4,1,4,1,2,1]\n",
    "print(find_max_sum(arr))\n",
    " \n"
   ]
  },
  {
   "cell_type": "code",
   "execution_count": 93,
   "metadata": {},
   "outputs": [
    {
     "name": "stdout",
     "output_type": "stream",
     "text": [
      "[40, 25, 50, 20]\n",
      "[30, 40, 55, 90, 90, 110]\n",
      "Maximum value : 110\n"
     ]
    }
   ],
   "source": [
    "# Python3 program to find the maximum stolen value\n",
    " \n",
    "# calculate the maximum stolen value\n",
    "def maximize_loot(hval, n):\n",
    "    if n == 0:\n",
    "        return 0\n",
    "    if n == 1:\n",
    "        return hval[0]\n",
    "    if n == 2:\n",
    "        return max(hval[0], hval[1])\n",
    " \n",
    "    # dp[i] represent the maximum value stolen so\n",
    "    # for after reaching house i.\n",
    "    dp = [0]*n\n",
    "    T = []\n",
    "    b = []\n",
    "    \n",
    "    # Initialize the dp[0] and dp[1]\n",
    "    dp[0] = hval[0]\n",
    "    dp[1] = max(hval[0], hval[1])\n",
    "\n",
    "    T.append(dp[1])\n",
    "    # Fill remaining positions\n",
    "    for i in range(2, n):\n",
    "        if hval[i]+dp[i-2] > dp[i-1]:\n",
    "            dp[i] = hval[i]+dp[i-2]\n",
    "            T.append(hval[i])\n",
    "\n",
    "        else:\n",
    "            dp[i] = dp[i-1]\n",
    "    print(T)\n",
    "    print(dp)\n",
    "    return(dp[-1])\n",
    "    # Value of houses\n",
    "hval = [30, 40, 25, 50, 30, 20]\n",
    "\n",
    "\n",
    "n = len(hval)\n",
    "h = dict(zip(list(range(n)), hval))\n",
    "print(\"Maximum value : {}\".format(maximize_loot(hval, n)))"
   ]
  },
  {
   "cell_type": "code",
   "execution_count": 91,
   "metadata": {},
   "outputs": [
    {
     "data": {
      "text/plain": [
       "{0: 30, 1: 40, 2: 25, 3: 50, 4: 30, 5: 20}"
      ]
     },
     "execution_count": 91,
     "metadata": {},
     "output_type": "execute_result"
    }
   ],
   "source": [
    "h = dict(zip(list(range(n)), hval))\n",
    "h"
   ]
  },
  {
   "cell_type": "code",
   "execution_count": 94,
   "metadata": {},
   "outputs": [],
   "source": [
    "from itertools import chain, combinations\n",
    "\n",
    "def powerset(iterable):\n",
    "    \n",
    "    s = list(iterable)\n",
    "    return chain.from_iterable(combinations(s, r) for r in range(1,len(s)+1))"
   ]
  },
  {
   "cell_type": "code",
   "execution_count": 87,
   "metadata": {},
   "outputs": [],
   "source": [
    "def get_key(val):\n",
    "    k = []\n",
    "    for key, value in h.items():\n",
    "         if val == value:\n",
    "            k.append(int(key))\n",
    "    print(k)"
   ]
  },
  {
   "cell_type": "code",
   "execution_count": 86,
   "metadata": {},
   "outputs": [
    {
     "name": "stdout",
     "output_type": "stream",
     "text": [
      "<class 'list'>\n"
     ]
    }
   ],
   "source": []
  },
  {
   "cell_type": "code",
   "execution_count": 51,
   "metadata": {},
   "outputs": [],
   "source": [
    "a = [1,2,3]"
   ]
  },
  {
   "cell_type": "code",
   "execution_count": 103,
   "metadata": {},
   "outputs": [
    {
     "data": {
      "text/plain": [
       "[[30, 50, 30], [40, 50, 20]]"
      ]
     },
     "execution_count": 103,
     "metadata": {},
     "output_type": "execute_result"
    }
   ],
   "source": [
    "b = list(powerset(hval))\n",
    "c = []\n",
    "for i in b:\n",
    "    if sum(i) == 110:\n",
    "        c.append(list(i))\n",
    "c"
   ]
  },
  {
   "cell_type": "code",
   "execution_count": 78,
   "metadata": {},
   "outputs": [
    {
     "data": {
      "text/plain": [
       "50"
      ]
     },
     "execution_count": 78,
     "metadata": {},
     "output_type": "execute_result"
    }
   ],
   "source": [
    "#[30, 40, 25, 50, 30, 20]\n",
    "\n",
    "for x in c:\n",
    "    i = 0 #hval\n",
    "    j = 0 #x subset\n",
    "    while True:\n",
    "        if i >= len(hval) or j >= len(x):\n",
    "            print(\"Correct answer: \", x)\n",
    "        if hval[i] != x[j]:\n",
    "            i += 1\n",
    "        elif x[j+1] == hval[i+1]:\n",
    "            break\n",
    "        elif x[j+1] != hval[i+1]:\n",
    "            i += 1\n",
    "            j += 1\n",
    "            \n",
    "\n",
    "    \n",
    "    \n"
   ]
  },
  {
   "cell_type": "code",
   "execution_count": 73,
   "metadata": {},
   "outputs": [
    {
     "name": "stdout",
     "output_type": "stream",
     "text": [
      "[3]\n",
      "[0, 4]\n"
     ]
    },
    {
     "ename": "TypeError",
     "evalue": "unsupported operand type(s) for -: 'NoneType' and 'NoneType'",
     "output_type": "error",
     "traceback": [
      "\u001b[0;31m---------------------------------------------------------------------------\u001b[0m",
      "\u001b[0;31mTypeError\u001b[0m                                 Traceback (most recent call last)",
      "\u001b[0;32m<ipython-input-73-0886a0fd9ed3>\u001b[0m in \u001b[0;36m<module>\u001b[0;34m\u001b[0m\n\u001b[1;32m      1\u001b[0m \u001b[0;32mfor\u001b[0m \u001b[0mi\u001b[0m \u001b[0;32min\u001b[0m \u001b[0mrange\u001b[0m\u001b[0;34m(\u001b[0m\u001b[0mlen\u001b[0m\u001b[0;34m(\u001b[0m\u001b[0mc\u001b[0m\u001b[0;34m)\u001b[0m\u001b[0;34m)\u001b[0m\u001b[0;34m:\u001b[0m\u001b[0;34m\u001b[0m\u001b[0;34m\u001b[0m\u001b[0m\n\u001b[1;32m      2\u001b[0m     \u001b[0;32mfor\u001b[0m \u001b[0mj\u001b[0m \u001b[0;32min\u001b[0m \u001b[0mrange\u001b[0m\u001b[0;34m(\u001b[0m\u001b[0mlen\u001b[0m\u001b[0;34m(\u001b[0m\u001b[0mc\u001b[0m\u001b[0;34m[\u001b[0m\u001b[0mi\u001b[0m\u001b[0;34m]\u001b[0m\u001b[0;34m)\u001b[0m\u001b[0;34m-\u001b[0m\u001b[0;36m1\u001b[0m\u001b[0;34m)\u001b[0m\u001b[0;34m:\u001b[0m\u001b[0;34m\u001b[0m\u001b[0;34m\u001b[0m\u001b[0m\n\u001b[0;32m----> 3\u001b[0;31m         \u001b[0;32mif\u001b[0m \u001b[0;34m(\u001b[0m\u001b[0mget_key\u001b[0m\u001b[0;34m(\u001b[0m\u001b[0mc\u001b[0m\u001b[0;34m[\u001b[0m\u001b[0mi\u001b[0m\u001b[0;34m]\u001b[0m\u001b[0;34m[\u001b[0m\u001b[0mj\u001b[0m\u001b[0;34m+\u001b[0m\u001b[0;36m1\u001b[0m\u001b[0;34m]\u001b[0m\u001b[0;34m)\u001b[0m \u001b[0;34m-\u001b[0m \u001b[0mget_key\u001b[0m\u001b[0;34m(\u001b[0m\u001b[0mc\u001b[0m\u001b[0;34m[\u001b[0m\u001b[0mi\u001b[0m\u001b[0;34m]\u001b[0m\u001b[0;34m[\u001b[0m\u001b[0mj\u001b[0m\u001b[0;34m]\u001b[0m\u001b[0;34m)\u001b[0m\u001b[0;34m)\u001b[0m \u001b[0;34m!=\u001b[0m \u001b[0;36m1\u001b[0m\u001b[0;34m:\u001b[0m\u001b[0;34m\u001b[0m\u001b[0;34m\u001b[0m\u001b[0m\n\u001b[0m\u001b[1;32m      4\u001b[0m             \u001b[0mprint\u001b[0m\u001b[0;34m(\u001b[0m\u001b[0;34m\"bella\"\u001b[0m\u001b[0;34m)\u001b[0m\u001b[0;34m\u001b[0m\u001b[0;34m\u001b[0m\u001b[0m\n",
      "\u001b[0;31mTypeError\u001b[0m: unsupported operand type(s) for -: 'NoneType' and 'NoneType'"
     ]
    }
   ],
   "source": [
    "for i in range(len(c)):\n",
    "    for j in range(len(c[i])-1):\n",
    "        if (get_key(c[i][j+1]) - get_key(c[i][j])) != 1:\n",
    "            print(\"bella\")"
   ]
  },
  {
   "cell_type": "code",
   "execution_count": 430,
   "metadata": {},
   "outputs": [],
   "source": [
    "dict1 = dict.fromkeys(['a', 'b', 'c'], -1)\n",
    "\n",
    "    summ = list(range(len(arr))) #//to store max sum upto a given index\n",
    "    summ.append(arr[0])\n",
    "    summ.append(max(arr[0], arr[1]))\n",
    "    for i in range(2,len(arr)):\n",
    "        a = max(arr[i], max(arr[i] + summ[i - 2], summ[i - 1]))\n",
    "        summ.append(a)\n",
    "    return summ(len(arr)-1)\n"
   ]
  },
  {
   "cell_type": "code",
   "execution_count": 386,
   "metadata": {},
   "outputs": [],
   "source": [
    "a = [4,1,1,4,2,1]"
   ]
  },
  {
   "cell_type": "code",
   "execution_count": 387,
   "metadata": {},
   "outputs": [
    {
     "data": {
      "text/plain": [
       "7"
      ]
     },
     "execution_count": 387,
     "metadata": {},
     "output_type": "execute_result"
    }
   ],
   "source": [
    "max(5, max(7, 6))"
   ]
  },
  {
   "cell_type": "code",
   "execution_count": 388,
   "metadata": {},
   "outputs": [
    {
     "ename": "TypeError",
     "evalue": "'list' object is not callable",
     "output_type": "error",
     "traceback": [
      "\u001b[0;31m---------------------------------------------------------------------------\u001b[0m",
      "\u001b[0;31mTypeError\u001b[0m                                 Traceback (most recent call last)",
      "\u001b[0;32m<ipython-input-388-7d69ce738172>\u001b[0m in \u001b[0;36m<module>\u001b[0;34m\u001b[0m\n\u001b[0;32m----> 1\u001b[0;31m \u001b[0mmaxSubsetSum\u001b[0m\u001b[0;34m(\u001b[0m\u001b[0ma\u001b[0m\u001b[0;34m)\u001b[0m\u001b[0;34m\u001b[0m\u001b[0;34m\u001b[0m\u001b[0m\n\u001b[0m",
      "\u001b[0;32m<ipython-input-385-2a4cc171c80e>\u001b[0m in \u001b[0;36mmaxSubsetSum\u001b[0;34m(arr)\u001b[0m\n\u001b[1;32m      7\u001b[0m         \u001b[0ma\u001b[0m \u001b[0;34m=\u001b[0m \u001b[0mmax\u001b[0m\u001b[0;34m(\u001b[0m\u001b[0marr\u001b[0m\u001b[0;34m[\u001b[0m\u001b[0mi\u001b[0m\u001b[0;34m]\u001b[0m\u001b[0;34m,\u001b[0m \u001b[0mmax\u001b[0m\u001b[0;34m(\u001b[0m\u001b[0marr\u001b[0m\u001b[0;34m[\u001b[0m\u001b[0mi\u001b[0m\u001b[0;34m]\u001b[0m \u001b[0;34m+\u001b[0m \u001b[0msumm\u001b[0m\u001b[0;34m[\u001b[0m\u001b[0mi\u001b[0m \u001b[0;34m-\u001b[0m \u001b[0;36m2\u001b[0m\u001b[0;34m]\u001b[0m\u001b[0;34m,\u001b[0m \u001b[0msumm\u001b[0m\u001b[0;34m[\u001b[0m\u001b[0mi\u001b[0m \u001b[0;34m-\u001b[0m \u001b[0;36m1\u001b[0m\u001b[0;34m]\u001b[0m\u001b[0;34m)\u001b[0m\u001b[0;34m)\u001b[0m\u001b[0;34m\u001b[0m\u001b[0;34m\u001b[0m\u001b[0m\n\u001b[1;32m      8\u001b[0m         \u001b[0msumm\u001b[0m\u001b[0;34m.\u001b[0m\u001b[0mappend\u001b[0m\u001b[0;34m(\u001b[0m\u001b[0ma\u001b[0m\u001b[0;34m)\u001b[0m\u001b[0;34m\u001b[0m\u001b[0;34m\u001b[0m\u001b[0m\n\u001b[0;32m----> 9\u001b[0;31m     \u001b[0;32mreturn\u001b[0m \u001b[0msumm\u001b[0m\u001b[0;34m(\u001b[0m\u001b[0mlen\u001b[0m\u001b[0;34m(\u001b[0m\u001b[0marr\u001b[0m\u001b[0;34m)\u001b[0m\u001b[0;34m-\u001b[0m\u001b[0;36m1\u001b[0m\u001b[0;34m)\u001b[0m\u001b[0;34m\u001b[0m\u001b[0;34m\u001b[0m\u001b[0m\n\u001b[0m",
      "\u001b[0;31mTypeError\u001b[0m: 'list' object is not callable"
     ]
    }
   ],
   "source": [
    "maxSubsetSum(a)"
   ]
  },
  {
   "cell_type": "code",
   "execution_count": null,
   "metadata": {},
   "outputs": [],
   "source": [
    "    if (arr.size() == 1) {\n",
    "      return arr[0];\n",
    "    }\n",
    "    if (arr.size() == 2) {\n",
    "      return max(arr[0], arr[1]);\n",
    "    }"
   ]
  },
  {
   "cell_type": "code",
   "execution_count": 359,
   "metadata": {},
   "outputs": [],
   "source": [
    "def PersonalT(lista):\n",
    "        #create a new list\n",
    "    parent = []\n",
    "    parent.append(-2)\n",
    "    #Initialiaze the values\n",
    "    sum_not_last_item = 0 #sum \n",
    "    track_last_pos = 0\n",
    "    somma_tot= lista[0]\n",
    "    track_actual_pos = 0\n",
    "    best_start = []\n",
    "    \n",
    "    for i in range(1,len(lista)):\n",
    "        parent.append(track_last_pos)\n",
    "        \n",
    "\n",
    "        last_item = lista[i]\n",
    "\n",
    "\n",
    "        probableSum = max(last_item + sum_not_last_item, last_item)\n",
    "        tPos = track_actual_pos\n",
    "        tSum = somma_tot\n",
    "        \n",
    "        if(probableSum > somma_tot):\n",
    "            somma_tot = probableSum\n",
    "            track_actual_pos = i\n",
    "\n",
    "\n",
    "\n",
    "        sum_not_last_item = tSum\n",
    "        track_last_pos = tPos\n",
    "    \n",
    "    opt = []\n",
    "    #best_start.pop()\n",
    "    for i in best_start:\n",
    "        opt.append(lista[i])\n",
    "    return(\"The optimal solution is to choose: \"+str(opt)+\"  of total duration \"+str(somma_tot))\n",
    "    \n",
    "\n",
    "   \n",
    "\n",
    "\n",
    "    #return(\"The optimal solution is to choose: \"+ str(opt) +\" of total duration \"+str(somma_tot))\n",
    "        \n",
    "\n",
    "    \n"
   ]
  },
  {
   "cell_type": "code",
   "execution_count": 291,
   "metadata": {},
   "outputs": [],
   "source": [
    "a = [30, 40, 25, 50, 30, 20]"
   ]
  },
  {
   "cell_type": "code",
   "execution_count": 289,
   "metadata": {},
   "outputs": [
    {
     "ename": "IndexError",
     "evalue": "list index out of range",
     "output_type": "error",
     "traceback": [
      "\u001b[0;31m---------------------------------------------------------------------------\u001b[0m",
      "\u001b[0;31mIndexError\u001b[0m                                Traceback (most recent call last)",
      "\u001b[0;32m<ipython-input-289-d4a68ac14297>\u001b[0m in \u001b[0;36m<module>\u001b[0;34m\u001b[0m\n\u001b[0;32m----> 1\u001b[0;31m \u001b[0mPersonalT\u001b[0m\u001b[0;34m(\u001b[0m\u001b[0ma\u001b[0m\u001b[0;34m)\u001b[0m\u001b[0;34m\u001b[0m\u001b[0;34m\u001b[0m\u001b[0m\n\u001b[0m",
      "\u001b[0;32m<ipython-input-287-fe9c30116b0e>\u001b[0m in \u001b[0;36mPersonalT\u001b[0;34m(lista)\u001b[0m\n\u001b[1;32m     24\u001b[0m             \u001b[0msomma_tot\u001b[0m \u001b[0;34m=\u001b[0m \u001b[0mprobableSum\u001b[0m\u001b[0;34m\u001b[0m\u001b[0;34m\u001b[0m\u001b[0m\n\u001b[1;32m     25\u001b[0m             \u001b[0mtrack_actual_pos\u001b[0m \u001b[0;34m=\u001b[0m \u001b[0mi\u001b[0m\u001b[0;34m\u001b[0m\u001b[0;34m\u001b[0m\u001b[0m\n\u001b[0;32m---> 26\u001b[0;31m             \u001b[0;32mif\u001b[0m \u001b[0;34m(\u001b[0m\u001b[0mi\u001b[0m \u001b[0;34m!=\u001b[0m \u001b[0;34m(\u001b[0m\u001b[0mbest_start\u001b[0m\u001b[0;34m[\u001b[0m\u001b[0;34m-\u001b[0m\u001b[0;36m1\u001b[0m\u001b[0;34m]\u001b[0m\u001b[0;34m+\u001b[0m\u001b[0;36m1\u001b[0m\u001b[0;34m)\u001b[0m\u001b[0;34m)\u001b[0m\u001b[0;34m:\u001b[0m\u001b[0;34m\u001b[0m\u001b[0;34m\u001b[0m\u001b[0m\n\u001b[0m\u001b[1;32m     27\u001b[0m                 \u001b[0mbest_start\u001b[0m\u001b[0;34m.\u001b[0m\u001b[0mappend\u001b[0m\u001b[0;34m(\u001b[0m\u001b[0mtrack_actual_pos\u001b[0m\u001b[0;34m)\u001b[0m\u001b[0;34m\u001b[0m\u001b[0;34m\u001b[0m\u001b[0m\n\u001b[1;32m     28\u001b[0m \u001b[0;34m\u001b[0m\u001b[0m\n",
      "\u001b[0;31mIndexError\u001b[0m: list index out of range"
     ]
    }
   ],
   "source": [
    "PersonalT(a)"
   ]
  },
  {
   "cell_type": "code",
   "execution_count": 333,
   "metadata": {},
   "outputs": [],
   "source": [
    "a = [1,2,3,4]"
   ]
  },
  {
   "cell_type": "code",
   "execution_count": 334,
   "metadata": {},
   "outputs": [
    {
     "data": {
      "text/plain": [
       "[1, 2, 3, 4]"
      ]
     },
     "execution_count": 334,
     "metadata": {},
     "output_type": "execute_result"
    }
   ],
   "source": [
    "kadane(a)"
   ]
  },
  {
   "cell_type": "code",
   "execution_count": null,
   "metadata": {},
   "outputs": [],
   "source": [
    "\n",
    "    n = len(lista)\n",
    "    opt = []\n",
    "    p = parent[n - 1]\n",
    "    opt.append(lista[n - 1])\n",
    "    while (p != -2):\n",
    "        opt.append(lista[p])\n",
    "        p = parent[p]"
   ]
  },
  {
   "cell_type": "code",
   "execution_count": null,
   "metadata": {},
   "outputs": [],
   "source": [
    "    opt = []\n",
    "    p = parent[n - 1]\n",
    "    opt.append(lista[n - 1])\n",
    "    while (p != -2):\n",
    "        opt.append(lista[p])\n",
    "        p = parent[p]"
   ]
  },
  {
   "cell_type": "code",
   "execution_count": null,
   "metadata": {},
   "outputs": [],
   "source": [
    "    \n",
    "    p = parent[n - 1]\n",
    "    print(str(lista[n - 1])+ \" \")\n",
    "    while (p != 0):\n",
    "        print(str(lista[p]) + \" \")\n",
    "        p = parent[p]"
   ]
  },
  {
   "cell_type": "code",
   "execution_count": 164,
   "metadata": {},
   "outputs": [
    {
     "name": "stdout",
     "output_type": "stream",
     "text": [
      "Good morning personal trainer!\n",
      "How many appointments do you have today? 6\n",
      "How much time want to spend the 1th client? 30\n",
      "How much time want to spend the 2th client? 40\n",
      "How much time want to spend the 3th client? 25\n",
      "How much time want to spend the 4th client? 50\n",
      "How much time want to spend the 5th client? 30\n",
      "How much time want to spend the 6th client? 70\n"
     ]
    },
    {
     "data": {
      "text/plain": [
       "'The optimal solution is to choose: [50, 40, 30] of total duration 120'"
      ]
     },
     "execution_count": 164,
     "metadata": {},
     "output_type": "execute_result"
    }
   ],
   "source": [
    "print(\"Good morning personal trainer!\")\n",
    "n = int(input(\"How many appointments do you have today? \"))\n",
    "l = []\n",
    "for app in range(1, n+1):\n",
    "    l.append(int(input(\"How much time want to spend the \"+ str(app)+\"th client? \")))\n",
    "PersonalT(l)"
   ]
  },
  {
   "cell_type": "code",
   "execution_count": 112,
   "metadata": {},
   "outputs": [
    {
     "ename": "NameError",
     "evalue": "name 'lista' is not defined",
     "output_type": "error",
     "traceback": [
      "\u001b[0;31m---------------------------------------------------------------------------\u001b[0m",
      "\u001b[0;31mNameError\u001b[0m                                 Traceback (most recent call last)",
      "\u001b[0;32m<ipython-input-112-b55e60a5a2f2>\u001b[0m in \u001b[0;36m<module>\u001b[0;34m\u001b[0m\n\u001b[1;32m      1\u001b[0m \u001b[0;31m#create a new list\u001b[0m\u001b[0;34m\u001b[0m\u001b[0;34m\u001b[0m\u001b[0;34m\u001b[0m\u001b[0m\n\u001b[0;32m----> 2\u001b[0;31m \u001b[0mparent\u001b[0m \u001b[0;34m=\u001b[0m \u001b[0mlist\u001b[0m\u001b[0;34m(\u001b[0m\u001b[0mrange\u001b[0m\u001b[0;34m(\u001b[0m\u001b[0mlen\u001b[0m\u001b[0;34m(\u001b[0m\u001b[0mlista\u001b[0m\u001b[0;34m)\u001b[0m\u001b[0;34m)\u001b[0m\u001b[0;34m)\u001b[0m\u001b[0;34m\u001b[0m\u001b[0;34m\u001b[0m\u001b[0m\n\u001b[0m\u001b[1;32m      3\u001b[0m \u001b[0;34m\u001b[0m\u001b[0m\n\u001b[1;32m      4\u001b[0m \u001b[0;31m#Initialiaze the values\u001b[0m\u001b[0;34m\u001b[0m\u001b[0;34m\u001b[0m\u001b[0;34m\u001b[0m\u001b[0m\n\u001b[1;32m      5\u001b[0m \u001b[0msum_not_last_item\u001b[0m \u001b[0;34m=\u001b[0m \u001b[0;36m0\u001b[0m \u001b[0;31m#sum\u001b[0m\u001b[0;34m\u001b[0m\u001b[0;34m\u001b[0m\u001b[0m\n",
      "\u001b[0;31mNameError\u001b[0m: name 'lista' is not defined"
     ]
    }
   ],
   "source": [
    "    #create a new list\n",
    "    parent = list(range(len(lista)))\n",
    "    \n",
    "    #Initialiaze the values\n",
    "    sum_not_last_item = 0 #sum \n",
    "    track_last_pos = 0\n",
    "    somma_tot= lista[0]\n",
    "    track_actual_pos = 0\n",
    "    \n",
    "    for i in range(1,len(lista)):\n",
    "        parent[i] = lastPos\n",
    "        last_item = lista[i]\n",
    "\n",
    "        probableSum = max(last_item + sum_not_last_item, last_item)\n",
    "        tPos = track_actual_pos\n",
    "        tSum = somma_tot\n",
    "        \n",
    "        if(probableSum > somma_tot):\n",
    "            somma_tot = probableSum\n",
    "            track_actual_pos = i\n",
    "        \n",
    "        sum_not_last_item = tSum\n",
    "        track_last_pos = tPos\n",
    "\n",
    "\n",
    "    return(\"The optimal solution is to choose:  of total duration \"+str(somma_tot))\n",
    "        \n",
    "\n",
    "    \n"
   ]
  },
  {
   "cell_type": "code",
   "execution_count": 111,
   "metadata": {},
   "outputs": [
    {
     "ename": "AttributeError",
     "evalue": "'int' object has no attribute 'append'",
     "output_type": "error",
     "traceback": [
      "\u001b[0;31m---------------------------------------------------------------------------\u001b[0m",
      "\u001b[0;31mAttributeError\u001b[0m                            Traceback (most recent call last)",
      "\u001b[0;32m<ipython-input-111-9c0f1ec4f269>\u001b[0m in \u001b[0;36m<module>\u001b[0;34m\u001b[0m\n\u001b[1;32m      9\u001b[0m \u001b[0mmax_index\u001b[0m \u001b[0;34m=\u001b[0m\u001b[0;36m1\u001b[0m\u001b[0;34m\u001b[0m\u001b[0;34m\u001b[0m\u001b[0m\n\u001b[1;32m     10\u001b[0m \u001b[0;32mfor\u001b[0m \u001b[0mi\u001b[0m \u001b[0;32min\u001b[0m \u001b[0mrange\u001b[0m\u001b[0;34m(\u001b[0m\u001b[0mlen\u001b[0m\u001b[0;34m(\u001b[0m\u001b[0mval\u001b[0m\u001b[0;34m)\u001b[0m\u001b[0;34m)\u001b[0m\u001b[0;34m:\u001b[0m\u001b[0;34m\u001b[0m\u001b[0;34m\u001b[0m\u001b[0m\n\u001b[0;32m---> 11\u001b[0;31m     \u001b[0mdp\u001b[0m\u001b[0;34m[\u001b[0m\u001b[0mi\u001b[0m\u001b[0;34m]\u001b[0m\u001b[0;34m.\u001b[0m\u001b[0mappend\u001b[0m\u001b[0;34m(\u001b[0m\u001b[0mval\u001b[0m\u001b[0;34m[\u001b[0m\u001b[0mi\u001b[0m\u001b[0;34m]\u001b[0m\u001b[0;34m+\u001b[0m\u001b[0mmas\u001b[0m\u001b[0;34m)\u001b[0m\u001b[0;34m\u001b[0m\u001b[0;34m\u001b[0m\u001b[0m\n\u001b[0m\u001b[1;32m     12\u001b[0m     \u001b[0mf\u001b[0m\u001b[0;34m[\u001b[0m\u001b[0mi\u001b[0m\u001b[0;34m]\u001b[0m\u001b[0;34m.\u001b[0m\u001b[0mappend\u001b[0m\u001b[0;34m(\u001b[0m\u001b[0mmax_index\u001b[0m\u001b[0;34m)\u001b[0m\u001b[0;34m\u001b[0m\u001b[0;34m\u001b[0m\u001b[0m\n\u001b[1;32m     13\u001b[0m     \u001b[0;32mif\u001b[0m \u001b[0mdp\u001b[0m\u001b[0;34m[\u001b[0m\u001b[0mi\u001b[0m\u001b[0;34m-\u001b[0m\u001b[0;36m1\u001b[0m\u001b[0;34m]\u001b[0m\u001b[0;34m>\u001b[0m\u001b[0mmas\u001b[0m\u001b[0;34m:\u001b[0m\u001b[0;34m\u001b[0m\u001b[0;34m\u001b[0m\u001b[0m\n",
      "\u001b[0;31mAttributeError\u001b[0m: 'int' object has no attribute 'append'"
     ]
    }
   ],
   "source": [
    "    dp = []\n",
    "    f = []\n",
    "    val = [10,  2,  1,  8,  4,  6, 10]\n",
    "    dp.append(val[0])\n",
    "    dp.append(val[1])\n",
    "    f.append(0)\n",
    "    f.append(0)\n",
    "    mas=dp[0] \n",
    "    max_index =1\n",
    "    for i in range(len(val)):\n",
    "        dp[i].append(val[i]+mas)\n",
    "        f[i].append(max_index)\n",
    "        if dp[i-1]>mas:\n",
    "           \n",
    "            mas = dp[i-1];\n",
    "            max_index=i-1;\n",
    "        \n",
    "    \n",
    "    if(dp[len(val)-1]>mas):\n",
    "        max_index = len(val)\n",
    "    print(dp)\n",
    "\n"
   ]
  },
  {
   "cell_type": "markdown",
   "metadata": {},
   "source": [
    "# Daniel code"
   ]
  },
  {
   "cell_type": "code",
   "execution_count": 70,
   "metadata": {},
   "outputs": [],
   "source": [
    "def optimalSol(arr):\n",
    "    incl = arr[0]\n",
    "    excl = 0\n",
    "    indexOfOptimalSol = [0]\n",
    "    #print(\"$$$$$$$$$$$$$$$$$$$$\")\n",
    "    #print(\"index: \", 0)\n",
    "    #print(\"incl = \", incl)\n",
    "    #print(\"excl = \", excl)\n",
    "    #print(\"indexOfOptimalSol: \", indexOfOptimalSol)\n",
    "    #print(\"$$$$$$$$$$$$$$$$$$$$\")\n",
    "    lastElem = 0\n",
    "    lastIndexArrayState = []\n",
    "    for i in range(1,len(arr)):\n",
    "        oldIncl = incl\n",
    "        if excl+arr[i] > incl:\n",
    "            aux = indexOfOptimalSol\n",
    "            if i - 1 in indexOfOptimalSol:\n",
    "                indexOfOptimalSol = lastIndexArrayState + [i]\n",
    "            else: \n",
    "                indexOfOptimalSol = indexOfOptimalSol + [i]\n",
    "            lastIndexArrayState = aux\n",
    "            incl = excl+arr[i]\n",
    "        excl = oldIncl\n",
    "        #print(\"$$$$$$$$$$$$$$$$$$$$\")\n",
    "        #print(\"index: \", i)\n",
    "        #print(\"incl = \", incl)\n",
    "        #print(\"excl = \", excl)\n",
    "        #print(\"indexOfOptimalSol: \", indexOfOptimalSol)\n",
    "        #print(\"$$$$$$$$$$$$$$$$$$$$\")\n",
    "        lastElem = i\n",
    "        \n",
    "        \n",
    "    \n",
    "    sol = list(map(lambda x: arr[x],indexOfOptimalSol))\n",
    "    print(\"SOLUTION: \", incl)\n",
    "    print(\"The solution is the sum of the elements: \", sol)\n",
    "    return incl, sol\n",
    "    "
   ]
  },
  {
   "cell_type": "code",
   "execution_count": 71,
   "metadata": {},
   "outputs": [
    {
     "name": "stdout",
     "output_type": "stream",
     "text": [
      "SOLUTION:  110\n",
      "The solution is the sum of the elements:  [40, 50, 20]\n"
     ]
    },
    {
     "data": {
      "text/plain": [
       "(110, [40, 50, 20])"
      ]
     },
     "execution_count": 71,
     "metadata": {},
     "output_type": "execute_result"
    }
   ],
   "source": [
    "optimalSol([30, 40, 25, 50, 30, 20])"
   ]
  },
  {
   "cell_type": "code",
   "execution_count": null,
   "metadata": {},
   "outputs": [],
   "source": []
  }
 ],
 "metadata": {
  "kernelspec": {
   "display_name": "Python 3 (ipykernel)",
   "language": "python",
   "name": "python3"
  },
  "language_info": {
   "codemirror_mode": {
    "name": "ipython",
    "version": 3
   },
   "file_extension": ".py",
   "mimetype": "text/x-python",
   "name": "python",
   "nbconvert_exporter": "python",
   "pygments_lexer": "ipython3",
   "version": "3.8.8"
  }
 },
 "nbformat": 4,
 "nbformat_minor": 4
}
