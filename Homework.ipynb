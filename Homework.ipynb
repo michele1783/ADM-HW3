{
 "cells": [
  {
   "cell_type": "markdown",
   "metadata": {
    "id": "9OAmHLj0XDsQ"
   },
   "source": [
    "# Homework 3"
   ]
  },
  {
   "cell_type": "markdown",
   "metadata": {
    "id": "dE37ft_VXDsT"
   },
   "source": [
    "Letizia Russo, Daniel Losada Molina and Michele Luca Puzzo"
   ]
  },
  {
   "cell_type": "markdown",
   "metadata": {},
   "source": [
    "Import Libraries"
   ]
  },
  {
   "cell_type": "code",
   "execution_count": 1,
   "metadata": {
    "id": "w5D60sG_XDsU"
   },
   "outputs": [],
   "source": [
    "import requests\n",
    "import lxml\n",
    "import shutil\n",
    "import funzioni as fun\n",
    "import time\n",
    "import nltk\n",
    "import datetime\n",
    "import csv\n",
    "import os\n",
    "import math\n",
    "from tqdm import tqdm\n",
    "from bs4 import BeautifulSoup\n",
    "from pathlib import Path\n",
    "import re\n",
    "import pandas as pd\n",
    "from nltk.corpus import stopwords\n",
    "from string import punctuation\n",
    "from nltk.stem.snowball import PorterStemmer\n",
    "from nltk import stem\n",
    "from nltk.tokenize import word_tokenize \n",
    "import json\n",
    "import numpy\n",
    "import heapq"
   ]
  },
  {
   "cell_type": "markdown",
   "metadata": {},
   "source": [
    "We define variables that we will use during all the homework"
   ]
  },
  {
   "cell_type": "code",
   "execution_count": 2,
   "metadata": {},
   "outputs": [],
   "source": [
    "nFolders = 299\n",
    "months = ['Jan', 'Feb', 'Mar', 'Apr', 'May', 'Jun','Jul', 'Aug', 'Sep', 'Oct', 'Nov', 'Dec']\n",
    "url_file = 'urls.txt'\n",
    "num_lines = sum(1 for line in open(url_file, encoding=\"utf-8\")) \n",
    "pagesPerFolder = num_lines/nFolders\n",
    "outputTSV = \"dataset.tsv\""
   ]
  },
  {
   "cell_type": "markdown",
   "metadata": {},
   "source": [
    "We create 299 folders because we have seen that we 19136 urls so we have put 64 urls in each folder"
   ]
  },
  {
   "cell_type": "markdown",
   "metadata": {},
   "source": [
    "Tentative of download a single page"
   ]
  },
  {
   "cell_type": "code",
   "execution_count": 3,
   "metadata": {},
   "outputs": [
    {
     "name": "stdout",
     "output_type": "stream",
     "text": [
      "Cartella1.  Page_1\n"
     ]
    }
   ],
   "source": [
    "fun.downloadOneFile(1)"
   ]
  },
  {
   "cell_type": "markdown",
   "metadata": {
    "id": "DZGsKI1ZXDsW"
   },
   "source": [
    "# 1. Data Collection"
   ]
  },
  {
   "cell_type": "markdown",
   "metadata": {
    "id": "hn-P5MHkXDsW"
   },
   "source": [
    "Since no dataset was provided for this homework, we had to create our own dataset by scraping the given website, which was done in the following steps."
   ]
  },
  {
   "cell_type": "markdown",
   "metadata": {
    "id": "-AUXbQpFXDsW"
   },
   "source": [
    "## 1.1 Get the list of animes"
   ]
  },
  {
   "cell_type": "markdown",
   "metadata": {
    "id": "4cd64vchXDsX"
   },
   "source": [
    "Firstly, we had to get the list of all the anime we wanted to add to our dataset. This included all the anime found in the first 400 pages. Therefore, we created a function that scrapes a certain number of pages from an initial url in order to extract the url of each of them. The initial urls and the following number of pages are given as input, while the resulting urls are stored in a txt file called \"urls.txt\" ."
   ]
  },
  {
   "cell_type": "code",
   "execution_count": null,
   "metadata": {
    "id": "FLKIYSvwXDsX",
    "outputId": "08d91975-e683-4a21-8e1f-497072ce001e"
   },
   "outputs": [],
   "source": [
    "fun.link_list(20000) #we give in input the number of anime that we want to retrieve\n",
    "#Later we will see that in the website there are less link than 20000 \n"
   ]
  },
  {
   "cell_type": "markdown",
   "metadata": {
    "id": "_L_dUibUXDsY"
   },
   "source": [
    "## 1.2 Crawl books"
   ]
  },
  {
   "cell_type": "code",
   "execution_count": null,
   "metadata": {
    "id": "NMf4nc-jXDsZ"
   },
   "outputs": [],
   "source": [
    "fun.crawl(\"urls.txt\")"
   ]
  },
  {
   "cell_type": "markdown",
   "metadata": {},
   "source": [
    "## 1.3 Parse downloaded pages"
   ]
  },
  {
   "cell_type": "markdown",
   "metadata": {},
   "source": [
    "Once we got all the urls in the first 400 pages of the website, we downloaded the html corresponding to each of the collected urls and we organized them into folders. Each folder contains the htmls of the animes in page 1, page 2, ... of the list of animes.\n",
    "\n",
    "Given all this data, it's of our interest understanding its meaning. So, in order to study it, we selected the following features: Anime Name, Anime Type, Number of episode, Release and End Dates of anime, Number of members, Score, Users, Rank, Popularity, Synopsis, Related Anime, Characters, Voices and Staff.\n",
    "\n"
   ]
  },
  {
   "cell_type": "markdown",
   "metadata": {},
   "source": [
    "We assemble all these informations generating a tsv file in which every previous feature is a column."
   ]
  },
  {
   "cell_type": "code",
   "execution_count": null,
   "metadata": {
    "colab": {
     "base_uri": "https://localhost:8080/",
     "height": 279
    },
    "id": "2cNF8m7wecqs",
    "outputId": "e0891359-f30a-4f51-f760-95f42415064a"
   },
   "outputs": [],
   "source": [
    "fun.tsvGenerator()"
   ]
  },
  {
   "cell_type": "markdown",
   "metadata": {},
   "source": [
    "# 2. Search Engine"
   ]
  },
  {
   "cell_type": "markdown",
   "metadata": {},
   "source": [
    "We import the dataset.tsv. that we have created and read it as csv to work on a pandas dataframe"
   ]
  },
  {
   "cell_type": "code",
   "execution_count": 4,
   "metadata": {},
   "outputs": [
    {
     "data": {
      "text/html": [
       "<div>\n",
       "<style scoped>\n",
       "    .dataframe tbody tr th:only-of-type {\n",
       "        vertical-align: middle;\n",
       "    }\n",
       "\n",
       "    .dataframe tbody tr th {\n",
       "        vertical-align: top;\n",
       "    }\n",
       "\n",
       "    .dataframe thead th {\n",
       "        text-align: right;\n",
       "    }\n",
       "</style>\n",
       "<table border=\"1\" class=\"dataframe\">\n",
       "  <thead>\n",
       "    <tr style=\"text-align: right;\">\n",
       "      <th></th>\n",
       "      <th>animeTitle</th>\n",
       "      <th>animeType</th>\n",
       "      <th>animeNumEpisode</th>\n",
       "      <th>releaseDate</th>\n",
       "      <th>endDate</th>\n",
       "      <th>animeNumMembers</th>\n",
       "      <th>animeScore</th>\n",
       "      <th>animeUsers</th>\n",
       "      <th>animeRank</th>\n",
       "      <th>animePopularity</th>\n",
       "      <th>animeDescription</th>\n",
       "      <th>animeRelated</th>\n",
       "      <th>animeCharacters</th>\n",
       "      <th>animeVoices</th>\n",
       "      <th>animeStaff</th>\n",
       "      <th>Url</th>\n",
       "    </tr>\n",
       "  </thead>\n",
       "  <tbody>\n",
       "    <tr>\n",
       "      <th>0</th>\n",
       "      <td>Fullmetal Alchemist: Brotherhood</td>\n",
       "      <td>TV</td>\n",
       "      <td>64.0</td>\n",
       "      <td>2009-04-05 00:00:00</td>\n",
       "      <td>2010-07-04 00:00:00</td>\n",
       "      <td>2679138</td>\n",
       "      <td>9.16</td>\n",
       "      <td>1629051</td>\n",
       "      <td>1</td>\n",
       "      <td>3</td>\n",
       "      <td>After a horrific alchemy experiment goes wrong...</td>\n",
       "      <td>['Fullmetal Alchemist', 'Fullmetal Alchemist: ...</td>\n",
       "      <td>['Elric, Edward', 'Elric, Alphonse', 'Mustang,...</td>\n",
       "      <td>['Park, Romi', 'Kugimiya, Rie', 'Miki, Shinich...</td>\n",
       "      <td>[['Cook, Justin', 'Producer'], ['Yonai, Norito...</td>\n",
       "      <td>https://myanimelist.net/anime/5114/Fullmetal_A...</td>\n",
       "    </tr>\n",
       "    <tr>\n",
       "      <th>1</th>\n",
       "      <td>Gintama° (Gintama Season 4)</td>\n",
       "      <td>TV</td>\n",
       "      <td>51.0</td>\n",
       "      <td>2015-04-08 00:00:00</td>\n",
       "      <td>2016-03-03 00:00:00</td>\n",
       "      <td>484546</td>\n",
       "      <td>9.09</td>\n",
       "      <td>169476</td>\n",
       "      <td>2</td>\n",
       "      <td>337</td>\n",
       "      <td>Gintoki, Shinpachi, and Kagura return as the f...</td>\n",
       "      <td>['Gintama', 'Gintama Movie 2: Kanketsu-hen - Y...</td>\n",
       "      <td>['Sakata, Gintoki', 'Kagura', 'Shimura, Shinpa...</td>\n",
       "      <td>['Sugita, Tomokazu', 'Kugimiya, Rie', 'Sakaguc...</td>\n",
       "      <td>[['Fujita, Youichi', 'Director, Storyboard, Pl...</td>\n",
       "      <td>https://myanimelist.net/anime/28977/Gintama°</td>\n",
       "    </tr>\n",
       "    <tr>\n",
       "      <th>2</th>\n",
       "      <td>Shingeki no Kyojin Season 3 Part 2</td>\n",
       "      <td>TV</td>\n",
       "      <td>10.0</td>\n",
       "      <td>2019-04-02 00:00:00</td>\n",
       "      <td>2019-07-01 00:00:00</td>\n",
       "      <td>1599580</td>\n",
       "      <td>9.09</td>\n",
       "      <td>1087519</td>\n",
       "      <td>3</td>\n",
       "      <td>33</td>\n",
       "      <td>Seeking to restore humanity's diminishing hope...</td>\n",
       "      <td>['Shingeki no Kyojin', 'Shingeki no Kyojin Sea...</td>\n",
       "      <td>['Levi', 'Yeager, Eren', 'Ackerman, Mikasa', '...</td>\n",
       "      <td>['Kamiya, Hiroshi', 'Kaji, Yuki', 'Ishikawa, Y...</td>\n",
       "      <td>[['Yabuta, Shuuhei', 'Producer'], ['Wada, Jouj...</td>\n",
       "      <td>https://myanimelist.net/anime/38524/Shingeki_n...</td>\n",
       "    </tr>\n",
       "    <tr>\n",
       "      <th>3</th>\n",
       "      <td>Steins;Gate</td>\n",
       "      <td>TV</td>\n",
       "      <td>24.0</td>\n",
       "      <td>2011-04-06 00:00:00</td>\n",
       "      <td>2011-09-01 00:00:00</td>\n",
       "      <td>2093244</td>\n",
       "      <td>9.09</td>\n",
       "      <td>1115839</td>\n",
       "      <td>4</td>\n",
       "      <td>11</td>\n",
       "      <td>The self-proclaimed mad scientist Rintarou Oka...</td>\n",
       "      <td>['Steins;Gate', 'ChäoS;HEAd', 'Robotics;Notes'...</td>\n",
       "      <td>['Okabe, Rintarou', 'Makise, Kurisu', 'Shiina,...</td>\n",
       "      <td>['Miyano, Mamoru', 'Imai, Asami', 'Hanazawa, K...</td>\n",
       "      <td>[['Iwasa, Gaku', 'Producer'], ['Yasuda, Takesh...</td>\n",
       "      <td>https://myanimelist.net/anime/9253/Steins_Gate</td>\n",
       "    </tr>\n",
       "    <tr>\n",
       "      <th>4</th>\n",
       "      <td>Fruits Basket: The Final</td>\n",
       "      <td>TV</td>\n",
       "      <td>13.0</td>\n",
       "      <td>2021-04-06 00:00:00</td>\n",
       "      <td>2021-06-02 00:00:00</td>\n",
       "      <td>276345</td>\n",
       "      <td>9.07</td>\n",
       "      <td>113310</td>\n",
       "      <td>5</td>\n",
       "      <td>653</td>\n",
       "      <td>Hundreds of years ago, the Chinese Zodiac spir...</td>\n",
       "      <td>['Fruits Basket', 'Fruits Basket 2nd Season', ...</td>\n",
       "      <td>['Souma, Kyou', 'Honda, Tooru', 'Souma, Yuki',...</td>\n",
       "      <td>['Uchida, Yuuma', 'Iwami, Manaka', 'Shimazaki,...</td>\n",
       "      <td>[['Ibata, Yoshihide', 'Director'], ['Aketagawa...</td>\n",
       "      <td>https://myanimelist.net/anime/42938/Fruits_Bas...</td>\n",
       "    </tr>\n",
       "  </tbody>\n",
       "</table>\n",
       "</div>"
      ],
      "text/plain": [
       "                           animeTitle animeType  animeNumEpisode  \\\n",
       "0    Fullmetal Alchemist: Brotherhood        TV             64.0   \n",
       "1         Gintama° (Gintama Season 4)        TV             51.0   \n",
       "2  Shingeki no Kyojin Season 3 Part 2        TV             10.0   \n",
       "3                         Steins;Gate        TV             24.0   \n",
       "4            Fruits Basket: The Final        TV             13.0   \n",
       "\n",
       "           releaseDate              endDate  animeNumMembers  animeScore  \\\n",
       "0  2009-04-05 00:00:00  2010-07-04 00:00:00          2679138        9.16   \n",
       "1  2015-04-08 00:00:00  2016-03-03 00:00:00           484546        9.09   \n",
       "2  2019-04-02 00:00:00  2019-07-01 00:00:00          1599580        9.09   \n",
       "3  2011-04-06 00:00:00  2011-09-01 00:00:00          2093244        9.09   \n",
       "4  2021-04-06 00:00:00  2021-06-02 00:00:00           276345        9.07   \n",
       "\n",
       "   animeUsers  animeRank  animePopularity  \\\n",
       "0     1629051          1                3   \n",
       "1      169476          2              337   \n",
       "2     1087519          3               33   \n",
       "3     1115839          4               11   \n",
       "4      113310          5              653   \n",
       "\n",
       "                                    animeDescription  \\\n",
       "0  After a horrific alchemy experiment goes wrong...   \n",
       "1  Gintoki, Shinpachi, and Kagura return as the f...   \n",
       "2  Seeking to restore humanity's diminishing hope...   \n",
       "3  The self-proclaimed mad scientist Rintarou Oka...   \n",
       "4  Hundreds of years ago, the Chinese Zodiac spir...   \n",
       "\n",
       "                                        animeRelated  \\\n",
       "0  ['Fullmetal Alchemist', 'Fullmetal Alchemist: ...   \n",
       "1  ['Gintama', 'Gintama Movie 2: Kanketsu-hen - Y...   \n",
       "2  ['Shingeki no Kyojin', 'Shingeki no Kyojin Sea...   \n",
       "3  ['Steins;Gate', 'ChäoS;HEAd', 'Robotics;Notes'...   \n",
       "4  ['Fruits Basket', 'Fruits Basket 2nd Season', ...   \n",
       "\n",
       "                                     animeCharacters  \\\n",
       "0  ['Elric, Edward', 'Elric, Alphonse', 'Mustang,...   \n",
       "1  ['Sakata, Gintoki', 'Kagura', 'Shimura, Shinpa...   \n",
       "2  ['Levi', 'Yeager, Eren', 'Ackerman, Mikasa', '...   \n",
       "3  ['Okabe, Rintarou', 'Makise, Kurisu', 'Shiina,...   \n",
       "4  ['Souma, Kyou', 'Honda, Tooru', 'Souma, Yuki',...   \n",
       "\n",
       "                                         animeVoices  \\\n",
       "0  ['Park, Romi', 'Kugimiya, Rie', 'Miki, Shinich...   \n",
       "1  ['Sugita, Tomokazu', 'Kugimiya, Rie', 'Sakaguc...   \n",
       "2  ['Kamiya, Hiroshi', 'Kaji, Yuki', 'Ishikawa, Y...   \n",
       "3  ['Miyano, Mamoru', 'Imai, Asami', 'Hanazawa, K...   \n",
       "4  ['Uchida, Yuuma', 'Iwami, Manaka', 'Shimazaki,...   \n",
       "\n",
       "                                          animeStaff  \\\n",
       "0  [['Cook, Justin', 'Producer'], ['Yonai, Norito...   \n",
       "1  [['Fujita, Youichi', 'Director, Storyboard, Pl...   \n",
       "2  [['Yabuta, Shuuhei', 'Producer'], ['Wada, Jouj...   \n",
       "3  [['Iwasa, Gaku', 'Producer'], ['Yasuda, Takesh...   \n",
       "4  [['Ibata, Yoshihide', 'Director'], ['Aketagawa...   \n",
       "\n",
       "                                                 Url  \n",
       "0  https://myanimelist.net/anime/5114/Fullmetal_A...  \n",
       "1       https://myanimelist.net/anime/28977/Gintama°  \n",
       "2  https://myanimelist.net/anime/38524/Shingeki_n...  \n",
       "3     https://myanimelist.net/anime/9253/Steins_Gate  \n",
       "4  https://myanimelist.net/anime/42938/Fruits_Bas...  "
      ]
     },
     "execution_count": 4,
     "metadata": {},
     "output_type": "execute_result"
    }
   ],
   "source": [
    "data = pd.read_csv('dataset.tsv', sep='\\t')\n",
    "data.head()"
   ]
  },
  {
   "cell_type": "markdown",
   "metadata": {},
   "source": [
    "# 2.1"
   ]
  },
  {
   "cell_type": "markdown",
   "metadata": {},
   "source": [
    "We use the function **cleaner** to pre-process all the the anime Description. \n",
    "In order to analyze this data, it's useful cleaning it removing stopwords, removing punctuation, doing the stemming and removing some useless words (such as 'b', 'br', 'span',  'one' ,  'id',  'none').\n",
    "\n",
    "To maintain the original structure of the dataframe we have decided to create and worked on a copy of it"
   ]
  },
  {
   "cell_type": "code",
   "execution_count": 6,
   "metadata": {},
   "outputs": [],
   "source": [
    "data2 = data.copy()\n",
    "data2['animeDescription'] = data2.animeDescription.apply(lambda x: fun.cleaner(x))\n"
   ]
  },
  {
   "cell_type": "markdown",
   "metadata": {},
   "source": [
    "We create a vocabulary in which the keys are the tokens that appear in the anime description. The values of each key are the documents in which is present that token."
   ]
  },
  {
   "cell_type": "code",
   "execution_count": 7,
   "metadata": {},
   "outputs": [],
   "source": [
    "vocabulary = fun.create_vocabulary(data2)"
   ]
  },
  {
   "cell_type": "code",
   "execution_count": 8,
   "metadata": {},
   "outputs": [],
   "source": [
    "a_file = open(\"vocabulary.json\", \"w\")\n",
    "a_file = json.dump(vocabulary, a_file)"
   ]
  },
  {
   "cell_type": "code",
   "execution_count": 9,
   "metadata": {},
   "outputs": [],
   "source": [
    "a_file = open(\"vocabulary.json\", \"r\")\n",
    "vocabulary = json.load(a_file)"
   ]
  },
  {
   "cell_type": "markdown",
   "metadata": {},
   "source": [
    "### 2.1.1) Create your index!"
   ]
  },
  {
   "cell_type": "markdown",
   "metadata": {},
   "source": [
    "At this point we were able to build the inverted index: it is a dictionary where each key is a number that correspond to a token and its values are the documents where that token appears"
   ]
  },
  {
   "cell_type": "code",
   "execution_count": 17,
   "metadata": {},
   "outputs": [],
   "source": [
    "inv_lst = fun.create_inverted_list(vocabulary)"
   ]
  },
  {
   "cell_type": "markdown",
   "metadata": {},
   "source": [
    "### 2.1.2) Execute the query"
   ]
  },
  {
   "cell_type": "markdown",
   "metadata": {},
   "source": [
    "First of all we have to clean the query just as we have cleaned the anime description."
   ]
  },
  {
   "cell_type": "code",
   "execution_count": 12,
   "metadata": {},
   "outputs": [
    {
     "name": "stdout",
     "output_type": "stream",
     "text": [
      "write query: SaIyan@ Race#\n"
     ]
    },
    {
     "data": {
      "text/plain": [
       "'saiyan race'"
      ]
     },
     "execution_count": 12,
     "metadata": {},
     "output_type": "execute_result"
    }
   ],
   "source": [
    "cleanQString = fun.cleaner(input(\"write query: \"))\n",
    "cleanQString"
   ]
  },
  {
   "cell_type": "markdown",
   "metadata": {},
   "source": [
    "Then we have used the function **map_terms_id** to map the key of inverted list to token present in our vocabulary. In this way we can associate to the query's token the corresponding number. This function prints a message of error if the token is not in our list and uses the remaining token. "
   ]
  },
  {
   "cell_type": "code",
   "execution_count": 13,
   "metadata": {},
   "outputs": [
    {
     "data": {
      "text/plain": [
       "[6083, 2785]"
      ]
     },
     "execution_count": 13,
     "metadata": {},
     "output_type": "execute_result"
    }
   ],
   "source": [
    "fun.map_terms_id(vocabulary, cleanQString)"
   ]
  },
  {
   "cell_type": "markdown",
   "metadata": {},
   "source": [
    "We have noticed that for some animes there are more than one row. They are not duplicates because they have different number of members. Maybe in the website this anime is repeated in the list. Attention: they have the same description. But they have the same link, we should not have repetitions. "
   ]
  },
  {
   "cell_type": "code",
   "execution_count": 14,
   "metadata": {},
   "outputs": [
    {
     "data": {
      "text/html": [
       "<div>\n",
       "<style scoped>\n",
       "    .dataframe tbody tr th:only-of-type {\n",
       "        vertical-align: middle;\n",
       "    }\n",
       "\n",
       "    .dataframe tbody tr th {\n",
       "        vertical-align: top;\n",
       "    }\n",
       "\n",
       "    .dataframe thead th {\n",
       "        text-align: right;\n",
       "    }\n",
       "</style>\n",
       "<table border=\"1\" class=\"dataframe\">\n",
       "  <thead>\n",
       "    <tr style=\"text-align: right;\">\n",
       "      <th></th>\n",
       "      <th>animeTitle</th>\n",
       "      <th>animeType</th>\n",
       "      <th>animeNumEpisode</th>\n",
       "      <th>releaseDate</th>\n",
       "      <th>endDate</th>\n",
       "      <th>animeNumMembers</th>\n",
       "      <th>animeScore</th>\n",
       "      <th>animeUsers</th>\n",
       "      <th>animeRank</th>\n",
       "      <th>animePopularity</th>\n",
       "      <th>animeDescription</th>\n",
       "      <th>animeRelated</th>\n",
       "      <th>animeCharacters</th>\n",
       "      <th>animeVoices</th>\n",
       "      <th>animeStaff</th>\n",
       "      <th>Url</th>\n",
       "    </tr>\n",
       "  </thead>\n",
       "  <tbody>\n",
       "    <tr>\n",
       "      <th>1036</th>\n",
       "      <td>Dragon Ball Kai (Dragon Ball Z Kai)</td>\n",
       "      <td>TV</td>\n",
       "      <td>97.0</td>\n",
       "      <td>2009-04-05 00:00:00</td>\n",
       "      <td>2011-03-02 00:00:00</td>\n",
       "      <td>315593</td>\n",
       "      <td>7.71</td>\n",
       "      <td>188407</td>\n",
       "      <td>1037</td>\n",
       "      <td>542</td>\n",
       "      <td>five year event dragon ball martial art expert...</td>\n",
       "      <td>['Dragon Ball', 'Dragon Ball Z', 'Dragon Ball ...</td>\n",
       "      <td>['Son, Gokuu', 'Vegeta', 'Son, Gohan', 'Piccol...</td>\n",
       "      <td>['Nozawa, Masako', 'Horikawa, Ryo', 'Nozawa, M...</td>\n",
       "      <td>[['Sabat, Christopher', 'Producer, ADR Directo...</td>\n",
       "      <td>https://myanimelist.net/anime/6033/Dragon_Ball...</td>\n",
       "    </tr>\n",
       "    <tr>\n",
       "      <th>15046</th>\n",
       "      <td>Dragon Ball Kai (Dragon Ball Z Kai)</td>\n",
       "      <td>TV</td>\n",
       "      <td>97.0</td>\n",
       "      <td>2009-04-05 00:00:00</td>\n",
       "      <td>2011-03-02 00:00:00</td>\n",
       "      <td>315676</td>\n",
       "      <td>7.71</td>\n",
       "      <td>188407</td>\n",
       "      <td>1037</td>\n",
       "      <td>542</td>\n",
       "      <td>five year event dragon ball martial art expert...</td>\n",
       "      <td>['Dragon Ball', 'Dragon Ball Z', 'Dragon Ball ...</td>\n",
       "      <td>['Son, Gokuu', 'Vegeta', 'Son, Gohan', 'Piccol...</td>\n",
       "      <td>['Nozawa, Masako', 'Horikawa, Ryo', 'Nozawa, M...</td>\n",
       "      <td>[['Sabat, Christopher', 'Producer, ADR Directo...</td>\n",
       "      <td>https://myanimelist.net/anime/6033/Dragon_Ball...</td>\n",
       "    </tr>\n",
       "    <tr>\n",
       "      <th>17061</th>\n",
       "      <td>Dragon Ball Kai (Dragon Ball Z Kai)</td>\n",
       "      <td>TV</td>\n",
       "      <td>97.0</td>\n",
       "      <td>2009-04-05 00:00:00</td>\n",
       "      <td>2011-03-02 00:00:00</td>\n",
       "      <td>315735</td>\n",
       "      <td>7.71</td>\n",
       "      <td>188407</td>\n",
       "      <td>1037</td>\n",
       "      <td>542</td>\n",
       "      <td>five year event dragon ball martial art expert...</td>\n",
       "      <td>['Dragon Ball', 'Dragon Ball Z', 'Dragon Ball ...</td>\n",
       "      <td>['Son, Gokuu', 'Vegeta', 'Son, Gohan', 'Piccol...</td>\n",
       "      <td>['Nozawa, Masako', 'Horikawa, Ryo', 'Nozawa, M...</td>\n",
       "      <td>[['Sabat, Christopher', 'Producer, ADR Directo...</td>\n",
       "      <td>https://myanimelist.net/anime/6033/Dragon_Ball...</td>\n",
       "    </tr>\n",
       "    <tr>\n",
       "      <th>19076</th>\n",
       "      <td>Dragon Ball Kai (Dragon Ball Z Kai)</td>\n",
       "      <td>TV</td>\n",
       "      <td>97.0</td>\n",
       "      <td>2009-04-05 00:00:00</td>\n",
       "      <td>2011-03-02 00:00:00</td>\n",
       "      <td>315749</td>\n",
       "      <td>7.71</td>\n",
       "      <td>188407</td>\n",
       "      <td>1037</td>\n",
       "      <td>542</td>\n",
       "      <td>five year event dragon ball martial art expert...</td>\n",
       "      <td>['Dragon Ball', 'Dragon Ball Z', 'Dragon Ball ...</td>\n",
       "      <td>['Son, Gokuu', 'Vegeta', 'Son, Gohan', 'Piccol...</td>\n",
       "      <td>['Nozawa, Masako', 'Horikawa, Ryo', 'Nozawa, M...</td>\n",
       "      <td>[['Sabat, Christopher', 'Producer, ADR Directo...</td>\n",
       "      <td>https://myanimelist.net/anime/6033/Dragon_Ball...</td>\n",
       "    </tr>\n",
       "  </tbody>\n",
       "</table>\n",
       "</div>"
      ],
      "text/plain": [
       "                                animeTitle animeType  animeNumEpisode  \\\n",
       "1036   Dragon Ball Kai (Dragon Ball Z Kai)        TV             97.0   \n",
       "15046  Dragon Ball Kai (Dragon Ball Z Kai)        TV             97.0   \n",
       "17061  Dragon Ball Kai (Dragon Ball Z Kai)        TV             97.0   \n",
       "19076  Dragon Ball Kai (Dragon Ball Z Kai)        TV             97.0   \n",
       "\n",
       "               releaseDate              endDate  animeNumMembers  animeScore  \\\n",
       "1036   2009-04-05 00:00:00  2011-03-02 00:00:00           315593        7.71   \n",
       "15046  2009-04-05 00:00:00  2011-03-02 00:00:00           315676        7.71   \n",
       "17061  2009-04-05 00:00:00  2011-03-02 00:00:00           315735        7.71   \n",
       "19076  2009-04-05 00:00:00  2011-03-02 00:00:00           315749        7.71   \n",
       "\n",
       "       animeUsers  animeRank  animePopularity  \\\n",
       "1036       188407       1037              542   \n",
       "15046      188407       1037              542   \n",
       "17061      188407       1037              542   \n",
       "19076      188407       1037              542   \n",
       "\n",
       "                                        animeDescription  \\\n",
       "1036   five year event dragon ball martial art expert...   \n",
       "15046  five year event dragon ball martial art expert...   \n",
       "17061  five year event dragon ball martial art expert...   \n",
       "19076  five year event dragon ball martial art expert...   \n",
       "\n",
       "                                            animeRelated  \\\n",
       "1036   ['Dragon Ball', 'Dragon Ball Z', 'Dragon Ball ...   \n",
       "15046  ['Dragon Ball', 'Dragon Ball Z', 'Dragon Ball ...   \n",
       "17061  ['Dragon Ball', 'Dragon Ball Z', 'Dragon Ball ...   \n",
       "19076  ['Dragon Ball', 'Dragon Ball Z', 'Dragon Ball ...   \n",
       "\n",
       "                                         animeCharacters  \\\n",
       "1036   ['Son, Gokuu', 'Vegeta', 'Son, Gohan', 'Piccol...   \n",
       "15046  ['Son, Gokuu', 'Vegeta', 'Son, Gohan', 'Piccol...   \n",
       "17061  ['Son, Gokuu', 'Vegeta', 'Son, Gohan', 'Piccol...   \n",
       "19076  ['Son, Gokuu', 'Vegeta', 'Son, Gohan', 'Piccol...   \n",
       "\n",
       "                                             animeVoices  \\\n",
       "1036   ['Nozawa, Masako', 'Horikawa, Ryo', 'Nozawa, M...   \n",
       "15046  ['Nozawa, Masako', 'Horikawa, Ryo', 'Nozawa, M...   \n",
       "17061  ['Nozawa, Masako', 'Horikawa, Ryo', 'Nozawa, M...   \n",
       "19076  ['Nozawa, Masako', 'Horikawa, Ryo', 'Nozawa, M...   \n",
       "\n",
       "                                              animeStaff  \\\n",
       "1036   [['Sabat, Christopher', 'Producer, ADR Directo...   \n",
       "15046  [['Sabat, Christopher', 'Producer, ADR Directo...   \n",
       "17061  [['Sabat, Christopher', 'Producer, ADR Directo...   \n",
       "19076  [['Sabat, Christopher', 'Producer, ADR Directo...   \n",
       "\n",
       "                                                     Url  \n",
       "1036   https://myanimelist.net/anime/6033/Dragon_Ball...  \n",
       "15046  https://myanimelist.net/anime/6033/Dragon_Ball...  \n",
       "17061  https://myanimelist.net/anime/6033/Dragon_Ball...  \n",
       "19076  https://myanimelist.net/anime/6033/Dragon_Ball...  "
      ]
     },
     "execution_count": 14,
     "metadata": {},
     "output_type": "execute_result"
    }
   ],
   "source": [
    "data2[data2[\"animeTitle\"] == \"Dragon Ball Kai (Dragon Ball Z Kai)\"]"
   ]
  },
  {
   "cell_type": "markdown",
   "metadata": {},
   "source": [
    "In the result that we obtained we see anime that in their description contain **both** the tokens of the query. We observe anime that have the same title and description: this is due to the fact that they are not duplicates because they are different in other fields like their *popularity* or *number of members*. "
   ]
  },
  {
   "cell_type": "code",
   "execution_count": 18,
   "metadata": {},
   "outputs": [
    {
     "data": {
      "text/html": [
       "<div>\n",
       "<style scoped>\n",
       "    .dataframe tbody tr th:only-of-type {\n",
       "        vertical-align: middle;\n",
       "    }\n",
       "\n",
       "    .dataframe tbody tr th {\n",
       "        vertical-align: top;\n",
       "    }\n",
       "\n",
       "    .dataframe thead th {\n",
       "        text-align: right;\n",
       "    }\n",
       "</style>\n",
       "<table border=\"1\" class=\"dataframe\">\n",
       "  <thead>\n",
       "    <tr style=\"text-align: right;\">\n",
       "      <th></th>\n",
       "      <th>animeTitle</th>\n",
       "      <th>animeDescription</th>\n",
       "      <th>Url</th>\n",
       "    </tr>\n",
       "  </thead>\n",
       "  <tbody>\n",
       "    <tr>\n",
       "      <th>0</th>\n",
       "      <td>Dragon Ball Kai (Dragon Ball Z Kai)</td>\n",
       "      <td>five year event dragon ball martial art expert...</td>\n",
       "      <td>https://myanimelist.net/anime/6033/Dragon_Ball...</td>\n",
       "    </tr>\n",
       "    <tr>\n",
       "      <th>1</th>\n",
       "      <td>Dragon Ball Kai (Dragon Ball Z Kai)</td>\n",
       "      <td>five year event dragon ball martial art expert...</td>\n",
       "      <td>https://myanimelist.net/anime/6033/Dragon_Ball...</td>\n",
       "    </tr>\n",
       "    <tr>\n",
       "      <th>2</th>\n",
       "      <td>Dragon Ball Kai (Dragon Ball Z Kai)</td>\n",
       "      <td>five year event dragon ball martial art expert...</td>\n",
       "      <td>https://myanimelist.net/anime/6033/Dragon_Ball...</td>\n",
       "    </tr>\n",
       "    <tr>\n",
       "      <th>3</th>\n",
       "      <td>Dragon Ball Z</td>\n",
       "      <td>five year win world martial art tournament gok...</td>\n",
       "      <td>https://myanimelist.net/anime/813/Dragon_Ball_Z</td>\n",
       "    </tr>\n",
       "    <tr>\n",
       "      <th>4</th>\n",
       "      <td>Dragon Ball Z</td>\n",
       "      <td>five year win world martial art tournament gok...</td>\n",
       "      <td>https://myanimelist.net/anime/813/Dragon_Ball_Z</td>\n",
       "    </tr>\n",
       "    <tr>\n",
       "      <th>5</th>\n",
       "      <td>Dragon Ball Z</td>\n",
       "      <td>five year win world martial art tournament gok...</td>\n",
       "      <td>https://myanimelist.net/anime/813/Dragon_Ball_Z</td>\n",
       "    </tr>\n",
       "    <tr>\n",
       "      <th>6</th>\n",
       "      <td>Dragon Ball Super: Broly</td>\n",
       "      <td>forti year ago planet vegeta home infam saiyan...</td>\n",
       "      <td>https://myanimelist.net/anime/36946/Dragon_Bal...</td>\n",
       "    </tr>\n",
       "    <tr>\n",
       "      <th>7</th>\n",
       "      <td>Dragon Ball Kai (Dragon Ball Z Kai)</td>\n",
       "      <td>five year event dragon ball martial art expert...</td>\n",
       "      <td>https://myanimelist.net/anime/6033/Dragon_Ball...</td>\n",
       "    </tr>\n",
       "    <tr>\n",
       "      <th>8</th>\n",
       "      <td>Dragon Ball Super: Broly</td>\n",
       "      <td>forti year ago planet vegeta home infam saiyan...</td>\n",
       "      <td>https://myanimelist.net/anime/36946/Dragon_Bal...</td>\n",
       "    </tr>\n",
       "    <tr>\n",
       "      <th>9</th>\n",
       "      <td>Dragon Ball Super: Broly</td>\n",
       "      <td>forti year ago planet vegeta home infam saiyan...</td>\n",
       "      <td>https://myanimelist.net/anime/36946/Dragon_Bal...</td>\n",
       "    </tr>\n",
       "    <tr>\n",
       "      <th>10</th>\n",
       "      <td>Dragon Ball Z</td>\n",
       "      <td>five year win world martial art tournament gok...</td>\n",
       "      <td>https://myanimelist.net/anime/813/Dragon_Ball_Z</td>\n",
       "    </tr>\n",
       "    <tr>\n",
       "      <th>11</th>\n",
       "      <td>Dragon Ball Z Special 1: Tatta Hitori no Saish...</td>\n",
       "      <td>bardock son goku father low rank saiyan soldie...</td>\n",
       "      <td>https://myanimelist.net/anime/986/Dragon_Ball_...</td>\n",
       "    </tr>\n",
       "    <tr>\n",
       "      <th>12</th>\n",
       "      <td>Dragon Ball Super: Broly</td>\n",
       "      <td>forti year ago planet vegeta home infam saiyan...</td>\n",
       "      <td>https://myanimelist.net/anime/36946/Dragon_Bal...</td>\n",
       "    </tr>\n",
       "    <tr>\n",
       "      <th>13</th>\n",
       "      <td>Dragon Ball Z Special 1: Tatta Hitori no Saish...</td>\n",
       "      <td>bardock son goku father low rank saiyan soldie...</td>\n",
       "      <td>https://myanimelist.net/anime/986/Dragon_Ball_...</td>\n",
       "    </tr>\n",
       "    <tr>\n",
       "      <th>14</th>\n",
       "      <td>Dragon Ball Z Special 1: Tatta Hitori no Saish...</td>\n",
       "      <td>bardock son goku father low rank saiyan soldie...</td>\n",
       "      <td>https://myanimelist.net/anime/986/Dragon_Ball_...</td>\n",
       "    </tr>\n",
       "  </tbody>\n",
       "</table>\n",
       "</div>"
      ],
      "text/plain": [
       "                                           animeTitle  \\\n",
       "0                 Dragon Ball Kai (Dragon Ball Z Kai)   \n",
       "1                 Dragon Ball Kai (Dragon Ball Z Kai)   \n",
       "2                 Dragon Ball Kai (Dragon Ball Z Kai)   \n",
       "3                                       Dragon Ball Z   \n",
       "4                                       Dragon Ball Z   \n",
       "5                                       Dragon Ball Z   \n",
       "6                            Dragon Ball Super: Broly   \n",
       "7                 Dragon Ball Kai (Dragon Ball Z Kai)   \n",
       "8                            Dragon Ball Super: Broly   \n",
       "9                            Dragon Ball Super: Broly   \n",
       "10                                      Dragon Ball Z   \n",
       "11  Dragon Ball Z Special 1: Tatta Hitori no Saish...   \n",
       "12                           Dragon Ball Super: Broly   \n",
       "13  Dragon Ball Z Special 1: Tatta Hitori no Saish...   \n",
       "14  Dragon Ball Z Special 1: Tatta Hitori no Saish...   \n",
       "\n",
       "                                     animeDescription  \\\n",
       "0   five year event dragon ball martial art expert...   \n",
       "1   five year event dragon ball martial art expert...   \n",
       "2   five year event dragon ball martial art expert...   \n",
       "3   five year win world martial art tournament gok...   \n",
       "4   five year win world martial art tournament gok...   \n",
       "5   five year win world martial art tournament gok...   \n",
       "6   forti year ago planet vegeta home infam saiyan...   \n",
       "7   five year event dragon ball martial art expert...   \n",
       "8   forti year ago planet vegeta home infam saiyan...   \n",
       "9   forti year ago planet vegeta home infam saiyan...   \n",
       "10  five year win world martial art tournament gok...   \n",
       "11  bardock son goku father low rank saiyan soldie...   \n",
       "12  forti year ago planet vegeta home infam saiyan...   \n",
       "13  bardock son goku father low rank saiyan soldie...   \n",
       "14  bardock son goku father low rank saiyan soldie...   \n",
       "\n",
       "                                                  Url  \n",
       "0   https://myanimelist.net/anime/6033/Dragon_Ball...  \n",
       "1   https://myanimelist.net/anime/6033/Dragon_Ball...  \n",
       "2   https://myanimelist.net/anime/6033/Dragon_Ball...  \n",
       "3     https://myanimelist.net/anime/813/Dragon_Ball_Z  \n",
       "4     https://myanimelist.net/anime/813/Dragon_Ball_Z  \n",
       "5     https://myanimelist.net/anime/813/Dragon_Ball_Z  \n",
       "6   https://myanimelist.net/anime/36946/Dragon_Bal...  \n",
       "7   https://myanimelist.net/anime/6033/Dragon_Ball...  \n",
       "8   https://myanimelist.net/anime/36946/Dragon_Bal...  \n",
       "9   https://myanimelist.net/anime/36946/Dragon_Bal...  \n",
       "10    https://myanimelist.net/anime/813/Dragon_Ball_Z  \n",
       "11  https://myanimelist.net/anime/986/Dragon_Ball_...  \n",
       "12  https://myanimelist.net/anime/36946/Dragon_Bal...  \n",
       "13  https://myanimelist.net/anime/986/Dragon_Ball_...  \n",
       "14  https://myanimelist.net/anime/986/Dragon_Ball_...  "
      ]
     },
     "execution_count": 18,
     "metadata": {},
     "output_type": "execute_result"
    }
   ],
   "source": [
    "new_dataset = fun.Search1(cleanQString, vocabulary, data2, inv_lst)\n",
    "new_dataset"
   ]
  },
  {
   "cell_type": "markdown",
   "metadata": {},
   "source": [
    "Now we have dropped the animeTitle duplicates"
   ]
  },
  {
   "cell_type": "code",
   "execution_count": 19,
   "metadata": {},
   "outputs": [
    {
     "data": {
      "text/html": [
       "<div>\n",
       "<style scoped>\n",
       "    .dataframe tbody tr th:only-of-type {\n",
       "        vertical-align: middle;\n",
       "    }\n",
       "\n",
       "    .dataframe tbody tr th {\n",
       "        vertical-align: top;\n",
       "    }\n",
       "\n",
       "    .dataframe thead th {\n",
       "        text-align: right;\n",
       "    }\n",
       "</style>\n",
       "<table border=\"1\" class=\"dataframe\">\n",
       "  <thead>\n",
       "    <tr style=\"text-align: right;\">\n",
       "      <th></th>\n",
       "      <th>animeTitle</th>\n",
       "      <th>animeDescription</th>\n",
       "      <th>Url</th>\n",
       "    </tr>\n",
       "  </thead>\n",
       "  <tbody>\n",
       "    <tr>\n",
       "      <th>0</th>\n",
       "      <td>Dragon Ball Kai (Dragon Ball Z Kai)</td>\n",
       "      <td>five year event dragon ball martial art expert...</td>\n",
       "      <td>https://myanimelist.net/anime/6033/Dragon_Ball...</td>\n",
       "    </tr>\n",
       "    <tr>\n",
       "      <th>1</th>\n",
       "      <td>Dragon Ball Z</td>\n",
       "      <td>five year win world martial art tournament gok...</td>\n",
       "      <td>https://myanimelist.net/anime/813/Dragon_Ball_Z</td>\n",
       "    </tr>\n",
       "    <tr>\n",
       "      <th>2</th>\n",
       "      <td>Dragon Ball Super: Broly</td>\n",
       "      <td>forti year ago planet vegeta home infam saiyan...</td>\n",
       "      <td>https://myanimelist.net/anime/36946/Dragon_Bal...</td>\n",
       "    </tr>\n",
       "    <tr>\n",
       "      <th>3</th>\n",
       "      <td>Dragon Ball Z Special 1: Tatta Hitori no Saish...</td>\n",
       "      <td>bardock son goku father low rank saiyan soldie...</td>\n",
       "      <td>https://myanimelist.net/anime/986/Dragon_Ball_...</td>\n",
       "    </tr>\n",
       "  </tbody>\n",
       "</table>\n",
       "</div>"
      ],
      "text/plain": [
       "                                          animeTitle  \\\n",
       "0                Dragon Ball Kai (Dragon Ball Z Kai)   \n",
       "1                                      Dragon Ball Z   \n",
       "2                           Dragon Ball Super: Broly   \n",
       "3  Dragon Ball Z Special 1: Tatta Hitori no Saish...   \n",
       "\n",
       "                                    animeDescription  \\\n",
       "0  five year event dragon ball martial art expert...   \n",
       "1  five year win world martial art tournament gok...   \n",
       "2  forti year ago planet vegeta home infam saiyan...   \n",
       "3  bardock son goku father low rank saiyan soldie...   \n",
       "\n",
       "                                                 Url  \n",
       "0  https://myanimelist.net/anime/6033/Dragon_Ball...  \n",
       "1    https://myanimelist.net/anime/813/Dragon_Ball_Z  \n",
       "2  https://myanimelist.net/anime/36946/Dragon_Bal...  \n",
       "3  https://myanimelist.net/anime/986/Dragon_Ball_...  "
      ]
     },
     "execution_count": 19,
     "metadata": {},
     "output_type": "execute_result"
    }
   ],
   "source": [
    "new_dataset_1 = new_dataset.drop_duplicates(subset=\"animeTitle\").reset_index(drop = True)\n",
    "new_dataset_1"
   ]
  },
  {
   "cell_type": "markdown",
   "metadata": {},
   "source": [
    "# 2.2) Conjunctive query & Ranking score"
   ]
  },
  {
   "cell_type": "markdown",
   "metadata": {},
   "source": [
    "Now we have created the second inverted list that has the same length of the previous one but we have added for each document the tfidf computed using the formula. "
   ]
  },
  {
   "cell_type": "code",
   "execution_count": 25,
   "metadata": {},
   "outputs": [],
   "source": [
    "inv_lst2 = fun.inverted_list_2(vocabulary, data2)"
   ]
  },
  {
   "cell_type": "markdown",
   "metadata": {},
   "source": [
    "We have to obtain the query score: for each word of our query we have computed its tf-idf. "
   ]
  },
  {
   "cell_type": "code",
   "execution_count": 20,
   "metadata": {},
   "outputs": [
    {
     "data": {
      "text/plain": [
       "[['saiyan', 3.246], ['race', 1.741]]"
      ]
     },
     "execution_count": 20,
     "metadata": {},
     "output_type": "execute_result"
    }
   ],
   "source": [
    "query_score = fun.queries(cleanQString, vocabulary, data2)\n",
    "query_score"
   ]
  },
  {
   "cell_type": "markdown",
   "metadata": {},
   "source": [
    "We use the function **documents** to retrieve all the pages that contain both the token of our query. So in this way it will be easier and faster to compute the cosine similarity. Indeed it will be zero for documents that do not contain these particular words, because the numerator is the dot product between the correspondent tf-idf (tf-idf of document that does not cointain all of them is zero)"
   ]
  },
  {
   "cell_type": "code",
   "execution_count": 26,
   "metadata": {},
   "outputs": [],
   "source": [
    "doc = fun.documents(cleanQString, vocabulary, data2, inv_lst)\n",
    "doc_score = []\n",
    "for key in cleanQString.split():\n",
    "    key_ = fun.map_terms_id(vocabulary, key) #each term of our query is mapped to a corresponding number\n",
    "    #so in this way we can go in our inverted index. Key_ is a list of one element\n",
    "    d = pd.DataFrame(inv_lst2[key_[0]], columns = [\"doc\", \"tfidf\"]) #for each token we create a df in which we have \n",
    "    #for each page that contains the single token we have tf-idf.\n",
    "    word = []\n",
    "    for i in doc:\n",
    "        word.append(d[d[\"doc\"] == i][\"tfidf\"]) #we select pages that contain both of tokens and save their tf-idf\n",
    "    doc_score.append(word)\n",
    "doc_score2 = list(zip(doc_score[0], doc_score[1])) #our query has two words\n"
   ]
  },
  {
   "cell_type": "markdown",
   "metadata": {},
   "source": [
    "*doc* are the number of pages that contain both of token of the query. These pages are the solution of the first Search Engine. "
   ]
  },
  {
   "cell_type": "markdown",
   "metadata": {},
   "source": [
    "We have computed the norm two of the query: the root square of the sum of tf-idf of the query. It is always the same."
   ]
  },
  {
   "cell_type": "code",
   "execution_count": 21,
   "metadata": {},
   "outputs": [
    {
     "data": {
      "text/plain": [
       "3.6834219144702933"
      ]
     },
     "execution_count": 21,
     "metadata": {},
     "output_type": "execute_result"
    }
   ],
   "source": [
    "q_norm = fun.qnorma(query_score)\n",
    "q_norm"
   ]
  },
  {
   "cell_type": "markdown",
   "metadata": {},
   "source": [
    "We compute the similarity for the documents that contain all the token in their description. "
   ]
  },
  {
   "cell_type": "code",
   "execution_count": 27,
   "metadata": {},
   "outputs": [],
   "source": [
    "num = list(range(len(doc_score2))) # initialize numerator of cosine similarity\n",
    "den = list(range(len(doc_score2))) #initialize denominator of cosine similarity\n",
    "anime = list(range(len(doc_score2))) #document \n",
    "similarity = list(range(len(doc_score2)))\n",
    "for i in range(len(doc_score2)):\n",
    "    #numerator of cosine similarity\n",
    "    num[i] = query_score[0][1] * float(doc_score2[i][0]) + query_score[1][1] * float(doc_score2[i][1])\n",
    "    #denominator of cosine similarity\n",
    "    den[i] = math.sqrt(float(doc_score2[i][0])**2 + float(doc_score2[i][1])**2)*q_norm\n",
    "    similarity[i] = num[i]/den[i]\n",
    "    #link the title to the similarity obtained \n",
    "    anime[i] = data2.iloc[doc[i]][\"animeTitle\"]"
   ]
  },
  {
   "cell_type": "markdown",
   "metadata": {},
   "source": [
    "We use a *heap data structure* to maintain the top-k documents. We have chosen k = 5. We immediately notice that the similarity  is about 1. Since the *cosine similarity* varies between -1 and 1, our result means that the words contained in the documents are mostly the same but this result doesn't imply that their order is identical.\n"
   ]
  },
  {
   "cell_type": "markdown",
   "metadata": {},
   "source": [
    "This result was surely expectable since we have considered just two words: in fact, following the meaning of the cosine similarity, it's pretty obvious that a query composed just by two words is present in the biggest part of the documents, but if we try with a longer query, we obtain a smaller similarity."
   ]
  },
  {
   "cell_type": "code",
   "execution_count": 28,
   "metadata": {},
   "outputs": [],
   "source": [
    "top = list(zip(anime, similarity))"
   ]
  },
  {
   "cell_type": "code",
   "execution_count": 29,
   "metadata": {},
   "outputs": [
    {
     "data": {
      "text/plain": [
       "[('Dragon Ball Z Special 1: Tatta Hitori no Saishuu Kessen',\n",
       "  0.9999986609682352),\n",
       " ('Dragon Ball Z Special 1: Tatta Hitori no Saishuu Kessen',\n",
       "  0.9999986609682352),\n",
       " ('Dragon Ball Z Special 1: Tatta Hitori no Saishuu Kessen',\n",
       "  0.9999986609682352),\n",
       " ('Dragon Ball Z', 0.9995894082311891),\n",
       " ('Dragon Ball Z', 0.9995894082311891)]"
      ]
     },
     "execution_count": 29,
     "metadata": {},
     "output_type": "execute_result"
    }
   ],
   "source": [
    "heapq.heapify(top)\n",
    "heapq.nlargest(5, top)"
   ]
  },
  {
   "cell_type": "markdown",
   "metadata": {},
   "source": [
    "It's the dataframe of the first Search Engine but in the last column we have put the similarity"
   ]
  },
  {
   "cell_type": "code",
   "execution_count": 30,
   "metadata": {},
   "outputs": [
    {
     "data": {
      "text/html": [
       "<div>\n",
       "<style scoped>\n",
       "    .dataframe tbody tr th:only-of-type {\n",
       "        vertical-align: middle;\n",
       "    }\n",
       "\n",
       "    .dataframe tbody tr th {\n",
       "        vertical-align: top;\n",
       "    }\n",
       "\n",
       "    .dataframe thead th {\n",
       "        text-align: right;\n",
       "    }\n",
       "</style>\n",
       "<table border=\"1\" class=\"dataframe\">\n",
       "  <thead>\n",
       "    <tr style=\"text-align: right;\">\n",
       "      <th></th>\n",
       "      <th>animeTitle</th>\n",
       "      <th>animeDescription</th>\n",
       "      <th>Url</th>\n",
       "      <th>Similarity</th>\n",
       "    </tr>\n",
       "  </thead>\n",
       "  <tbody>\n",
       "    <tr>\n",
       "      <th>0</th>\n",
       "      <td>Dragon Ball Z Special 1: Tatta Hitori no Saish...</td>\n",
       "      <td>bardock son goku father low rank saiyan soldie...</td>\n",
       "      <td>https://myanimelist.net/anime/986/Dragon_Ball_...</td>\n",
       "      <td>0.999999</td>\n",
       "    </tr>\n",
       "    <tr>\n",
       "      <th>1</th>\n",
       "      <td>Dragon Ball Z Special 1: Tatta Hitori no Saish...</td>\n",
       "      <td>bardock son goku father low rank saiyan soldie...</td>\n",
       "      <td>https://myanimelist.net/anime/986/Dragon_Ball_...</td>\n",
       "      <td>0.999999</td>\n",
       "    </tr>\n",
       "    <tr>\n",
       "      <th>2</th>\n",
       "      <td>Dragon Ball Z Special 1: Tatta Hitori no Saish...</td>\n",
       "      <td>bardock son goku father low rank saiyan soldie...</td>\n",
       "      <td>https://myanimelist.net/anime/986/Dragon_Ball_...</td>\n",
       "      <td>0.999999</td>\n",
       "    </tr>\n",
       "    <tr>\n",
       "      <th>3</th>\n",
       "      <td>Dragon Ball Kai (Dragon Ball Z Kai)</td>\n",
       "      <td>five year event dragon ball martial art expert...</td>\n",
       "      <td>https://myanimelist.net/anime/6033/Dragon_Ball...</td>\n",
       "      <td>0.999891</td>\n",
       "    </tr>\n",
       "    <tr>\n",
       "      <th>4</th>\n",
       "      <td>Dragon Ball Kai (Dragon Ball Z Kai)</td>\n",
       "      <td>five year event dragon ball martial art expert...</td>\n",
       "      <td>https://myanimelist.net/anime/6033/Dragon_Ball...</td>\n",
       "      <td>0.999891</td>\n",
       "    </tr>\n",
       "  </tbody>\n",
       "</table>\n",
       "</div>"
      ],
      "text/plain": [
       "                                          animeTitle  \\\n",
       "0  Dragon Ball Z Special 1: Tatta Hitori no Saish...   \n",
       "1  Dragon Ball Z Special 1: Tatta Hitori no Saish...   \n",
       "2  Dragon Ball Z Special 1: Tatta Hitori no Saish...   \n",
       "3                Dragon Ball Kai (Dragon Ball Z Kai)   \n",
       "4                Dragon Ball Kai (Dragon Ball Z Kai)   \n",
       "\n",
       "                                    animeDescription  \\\n",
       "0  bardock son goku father low rank saiyan soldie...   \n",
       "1  bardock son goku father low rank saiyan soldie...   \n",
       "2  bardock son goku father low rank saiyan soldie...   \n",
       "3  five year event dragon ball martial art expert...   \n",
       "4  five year event dragon ball martial art expert...   \n",
       "\n",
       "                                                 Url  Similarity  \n",
       "0  https://myanimelist.net/anime/986/Dragon_Ball_...    0.999999  \n",
       "1  https://myanimelist.net/anime/986/Dragon_Ball_...    0.999999  \n",
       "2  https://myanimelist.net/anime/986/Dragon_Ball_...    0.999999  \n",
       "3  https://myanimelist.net/anime/6033/Dragon_Ball...    0.999891  \n",
       "4  https://myanimelist.net/anime/6033/Dragon_Ball...    0.999891  "
      ]
     },
     "execution_count": 30,
     "metadata": {},
     "output_type": "execute_result"
    }
   ],
   "source": [
    "new_dataset[\"Similarity\"] = similarity\n",
    "new_dataset.sort_values(by = \"Similarity\", ascending = False).reset_index(drop = True).head()"
   ]
  },
  {
   "cell_type": "markdown",
   "metadata": {},
   "source": [
    "Tentative of implementation with sklearn. Useless"
   ]
  },
  {
   "cell_type": "code",
   "execution_count": null,
   "metadata": {},
   "outputs": [],
   "source": [
    "import numpy as np\n",
    "from sklearn.feature_extraction.text import TfidfVectorizer\n",
    "from sklearn.feature_extraction.text import CountVectorizer\n",
    "from sklearn.metrics.pairwise import cosine_similarity\n",
    "\n",
    "# Calculate the tfidf and cosine similarity score for all books with the query\n",
    "\n",
    "vectorizer = TfidfVectorizer() # Get tf-idf matrix using fit_transform function\n",
    "X = vectorizer.fit_transform(data2['animeDescription'].values.astype('U')) # Store tf-idf representations of all docs\n",
    "\n",
    "query = 'saiyan race' # Ask the user to write the query\n",
    "\n",
    "query_vec = vectorizer.transform([query]) # Ip -- (n_docs,x), Op -- (n_docs,n_Feats)\n",
    "results = cosine_similarity(X,query_vec).reshape((-1,)) # Op -- (n_docs,1) -- Cosine Sim with each doc\n",
    "cos_sim = results.tolist() # Convert the cosine similarity result to list format\n",
    "data2['Similarity'] = cos_sim # Write the similarity score to Similarity column of dataframe\n",
    "    \n",
    "#data2.nlargest(10,'Similarity') # Take the first 10 most similar books"
   ]
  },
  {
   "cell_type": "code",
   "execution_count": null,
   "metadata": {},
   "outputs": [],
   "source": [
    "data2_top = data2.nlargest(10,'Similarity')[[\"animeTitle\",'animeDescription', \"Url\", \"Similarity\"]].reset_index()\n",
    "data2_top"
   ]
  },
  {
   "cell_type": "markdown",
   "metadata": {},
   "source": [
    "# 3. Define a new score!\n"
   ]
  },
  {
   "cell_type": "code",
   "execution_count": null,
   "metadata": {},
   "outputs": [],
   "source": [
    "query = input(\"Insert your query string: \")"
   ]
  },
  {
   "cell_type": "code",
   "execution_count": null,
   "metadata": {},
   "outputs": [],
   "source": [
    "cleanQString = cleaner(query)\n",
    "cleanQString"
   ]
  },
  {
   "cell_type": "code",
   "execution_count": null,
   "metadata": {},
   "outputs": [],
   "source": [
    "data1 = data.copy()"
   ]
  },
  {
   "cell_type": "code",
   "execution_count": null,
   "metadata": {},
   "outputs": [],
   "source": [
    "data1['animeTitle'] = data1.animeTitle.apply(lambda x: cleaner(x))\n",
    "data1['animeDescription'] = data1.animeDescription.apply(lambda x: cleaner(x))\n",
    "data1['animeRelated'] = data1.animeRelated.apply(lambda x: cleaner(x))\n",
    "#data1['animeVoices'] = data1.animeVoices.apply(lambda x: cleaner(x))\n",
    "#data1['animeStaff'] = data1.animeStaff.apply(lambda x: cleaner(x))"
   ]
  },
  {
   "cell_type": "code",
   "execution_count": null,
   "metadata": {},
   "outputs": [],
   "source": [
    "data1.head()"
   ]
  },
  {
   "cell_type": "code",
   "execution_count": null,
   "metadata": {},
   "outputs": [],
   "source": [
    "def create_vocabulary2(data):\n",
    "    voc2 = {}\n",
    "    for i, row in data.iterrows():\n",
    "        for column in [\"animeTitle\", \"animeDescription\",\"animeRelated\"]:\n",
    "            if len(data.at[i, column]) > 0:  # check if the list is empty or not to avoid the eventually error\n",
    "                token = data.at[i, column].split()\n",
    "                for word in token:\n",
    "                    if word in voc2.keys(): # insert the token into the vocabulary with the documents where this is present\n",
    "                        if i not in voc2[word]:\n",
    "                            voc2[word].append(i)\n",
    "                    else:\n",
    "                        voc2[word] = [i]\n",
    "    return voc2"
   ]
  },
  {
   "cell_type": "code",
   "execution_count": null,
   "metadata": {},
   "outputs": [],
   "source": [
    "def inverted_list_3(voc2, df):\n",
    "\n",
    "    inv_lst3 = {}\n",
    "\n",
    "    indexes = list(voc2.keys())\n",
    "    for key in voc2.keys():\n",
    "        lst_doc = voc2[key]\n",
    "\n",
    "        result = []\n",
    "\n",
    "        for doc in lst_doc: # extract the list of tokens from a proper column\n",
    "            tf_idf = []\n",
    "            for column in [\"animeTitle\", \"animeDescription\",\"animeRelated\"]: # insert all tokens present in those columns\n",
    "                interested_row = df.at[doc, column]\n",
    "            #interested_word = key #i-th word\n",
    "                try:\n",
    "                    tf = interested_row.count(key) / len(interested_row)\n",
    "                except:\n",
    "                    tf = 0\n",
    "                idf = math.log(len(df)/len(lst_doc))\n",
    "                \n",
    "                tf_idf.append(round(tf * idf, 3))\n",
    "\n",
    "            result.append((doc, sum(tf_idf)/3))\n",
    "\n",
    "        inv_lst3[indexes.index(key)] = result # insert the result into the inverted list\n",
    "\n",
    "    return inv_lst3"
   ]
  },
  {
   "cell_type": "code",
   "execution_count": null,
   "metadata": {},
   "outputs": [],
   "source": [
    "vocabulary2 = create_vocabulary2(data1)\n",
    "import math"
   ]
  },
  {
   "cell_type": "code",
   "execution_count": null,
   "metadata": {},
   "outputs": [],
   "source": [
    "b_file = open(\"vocabulary2.json\", \"w\")\n",
    "b_file = json.dump(vocabulary2, b_file)\n",
    "b_file = open(\"vocabulary2.json\", \"r\")\n",
    "vocabulary2 = json.load(b_file)"
   ]
  },
  {
   "cell_type": "code",
   "execution_count": null,
   "metadata": {},
   "outputs": [],
   "source": [
    "inv_lst3 = inverted_list_3(vocabulary2, data1)"
   ]
  },
  {
   "cell_type": "markdown",
   "metadata": {},
   "source": [
    "# 5. Algorithmic question"
   ]
  },
  {
   "cell_type": "markdown",
   "metadata": {},
   "source": [
    "The algorithm is using Dynamic Programing to solve it. Basically, we use 2 variables to know if we should take the i-th value or not. These variables are, incl, which will store the higher sum we can get including the i-th value, and excl, which will store the higher sum we can get without including the i-th value. We start iterating the list of values from the first index. So initially incl = or[0], Because the higher sum we can obtain till the moment it's getting the first element. And excl = 0, because as we are in the beginning, if we don't take the only element we have, the sum is 0. Hereinafter, for each of the next documents, we will check if the best sum we got excluding the last element plus the current element, it's better or not than the highest sum including the last element. If the sum of including the last element its higher, we can't use the current one because are consecutive. If the sum of the excl and the current is higher, means that till the moment we are going to include in our solution the current element. If we keep going , at the end of the array we will obtain the highest sum of the whole array.\n",
    "\n",
    "To also get the values that are used in the correct solution, we can store in an array the values that we are including. The problem is that as we can't have consecutive elements, if we decide that we want to use the current value, and the last value iterated is in the solution array, we have to switch to the state of the solution before we added the last element, and append the current one. In case that the last element is not in the list, we don't have any conflict into adding the current one. That way, at every iteration, we have the values used for getting the best solution till the moment, so at the end of the array, we will also have the values that we used for the solution."
   ]
  },
  {
   "cell_type": "code",
   "execution_count": 31,
   "metadata": {},
   "outputs": [],
   "source": [
    "def optimalSol(arr):\n",
    "    incl = arr[0] # list of max sum including the previous element \n",
    "    excl = 0 #list of max sum excluding the previous element\n",
    "    indexOfOptimalSol = [0] #index of the best solution \n",
    "    #print(\"$$$$$$$$$$$$$$$$$$$$\")\n",
    "    #print(\"index: \", 0)\n",
    "    #print(\"incl = \", incl)\n",
    "    #print(\"excl = \", excl)\n",
    "    #print(\"indexOfOptimalSol: \", indexOfOptimalSol)\n",
    "    #print(\"$$$$$$$$$$$$$$$$$$$$\")\n",
    "    lastElem = 0\n",
    "    lastIndexArrayState = []\n",
    "    for i in range(1,len(arr)): # i is the actual position\n",
    "        oldIncl = incl\n",
    "        if excl+arr[i] > incl:\n",
    "            aux = indexOfOptimalSol\n",
    "            if i - 1 in indexOfOptimalSol:\n",
    "                indexOfOptimalSol = lastIndexArrayState + [i] #update of the index in the best solution\n",
    "            else: \n",
    "                indexOfOptimalSol = indexOfOptimalSol + [i] #update of the index in the best solution\n",
    "            lastIndexArrayState = aux\n",
    "            incl = excl+arr[i]\n",
    "        excl = oldIncl\n",
    "        #print(\"$$$$$$$$$$$$$$$$$$$$\")\n",
    "        #print(\"index: \", i)\n",
    "        #print(\"incl = \", incl)\n",
    "        #print(\"excl = \", excl)\n",
    "        #print(\"indexOfOptimalSol: \", indexOfOptimalSol)\n",
    "        #print(\"$$$$$$$$$$$$$$$$$$$$\")\n",
    "        lastElem = i\n",
    "        \n",
    "        \n",
    "    \n",
    "    sol = list(map(lambda x: arr[x],indexOfOptimalSol))\n",
    "    print(\"SOLUTION: \", incl)\n",
    "    print(\"The solution is the sum of the elements: \", sol)\n",
    "    return incl, sol\n",
    "    "
   ]
  },
  {
   "cell_type": "markdown",
   "metadata": {},
   "source": [
    "example"
   ]
  },
  {
   "cell_type": "code",
   "execution_count": 32,
   "metadata": {},
   "outputs": [
    {
     "name": "stdout",
     "output_type": "stream",
     "text": [
      "SOLUTION:  110\n",
      "The solution is the sum of the elements:  [40, 50, 20]\n"
     ]
    },
    {
     "data": {
      "text/plain": [
       "(110, [40, 50, 20])"
      ]
     },
     "execution_count": 32,
     "metadata": {},
     "output_type": "execute_result"
    }
   ],
   "source": [
    "optimalSol([30, 40, 25, 50, 30, 20])"
   ]
  },
  {
   "cell_type": "markdown",
   "metadata": {},
   "source": [
    "Program that given in input an instance in the form given above, gives the optimal solution.\n"
   ]
  },
  {
   "cell_type": "code",
   "execution_count": 34,
   "metadata": {},
   "outputs": [
    {
     "name": "stdout",
     "output_type": "stream",
     "text": [
      "Good morning personal trainer!\n",
      "How many appointments do you have today? 5\n",
      "How much time want to spend the 1th client? 60\n",
      "How much time want to spend the 2th client? 30\n",
      "How much time want to spend the 3th client? 20\n",
      "How much time want to spend the 4th client? 50\n",
      "How much time want to spend the 5th client? 45\n",
      "SOLUTION:  125\n",
      "The solution is the sum of the elements:  [60, 20, 45]\n"
     ]
    },
    {
     "data": {
      "text/plain": [
       "(125, [60, 20, 45])"
      ]
     },
     "execution_count": 34,
     "metadata": {},
     "output_type": "execute_result"
    }
   ],
   "source": [
    "print(\"Good morning personal trainer!\")\n",
    "n = int(input(\"How many appointments do you have today? \")) #len of the list\n",
    "l = []\n",
    "for app in range(1, n+1):\n",
    "    l.append(int(input(\"How much time want to spend the \"+ str(app)+\"th client? \"))) #item of the list\n",
    "optimalSol(l)"
   ]
  },
  {
   "cell_type": "code",
   "execution_count": null,
   "metadata": {},
   "outputs": [],
   "source": []
  }
 ],
 "metadata": {
  "colab": {
   "collapsed_sections": [],
   "name": "Homework_3_1.ipynb",
   "provenance": []
  },
  "kernelspec": {
   "display_name": "Python 3",
   "language": "python",
   "name": "python3"
  },
  "language_info": {
   "codemirror_mode": {
    "name": "ipython",
    "version": 3
   },
   "file_extension": ".py",
   "mimetype": "text/x-python",
   "name": "python",
   "nbconvert_exporter": "python",
   "pygments_lexer": "ipython3",
   "version": "3.8.3"
  }
 },
 "nbformat": 4,
 "nbformat_minor": 1
}
