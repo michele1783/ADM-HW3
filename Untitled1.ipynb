{
 "cells": [
  {
   "cell_type": "code",
   "execution_count": 168,
   "metadata": {},
   "outputs": [],
   "source": [
    "import requests\n",
    "import datetime\n",
    "from tqdm import tqdm\n",
    "from bs4 import BeautifulSoup\n",
    "from pathlib import Path\n",
    "import lxml\n",
    "import shutil\n",
    "import functions as fun\n",
    "import urllib.request\n",
    "import urllib.error as uer\n",
    "import time\n",
    "import re\n",
    "import os\n",
    "import csv\n"
   ]
  },
  {
   "cell_type": "code",
   "execution_count": 284,
   "metadata": {},
   "outputs": [],
   "source": [
    "#soup = BeautifulSoup(open(\"cartella1/page_{}.html\".format(i)), features = \"lxml\")\n",
    "soup = BeautifulSoup(open(\"cartella1/page_1.html\"), features = \"lxml\")"
   ]
  },
  {
   "cell_type": "code",
   "execution_count": null,
   "metadata": {},
   "outputs": [],
   "source": [
    "#title\n",
    "soup.title.contents[0].replace('\\n', '').replace(\"- MyAnimeList.net\", '').strip()"
   ]
  },
  {
   "cell_type": "code",
   "execution_count": 86,
   "metadata": {},
   "outputs": [
    {
     "data": {
      "text/plain": [
       "'Fullmetal Alchemist: Brotherhood'"
      ]
     },
     "execution_count": 86,
     "metadata": {},
     "output_type": "execute_result"
    }
   ],
   "source": [
    "#title\n",
    "try:\n",
    "    Title = []\n",
    "    Title.append(soup.title.contents[0].replace('\\n', '').replace(\"- MyAnimeList.net\", '').strip())\n",
    "except:\n",
    "    Title.append(\" \")\n",
    "\n",
    "\n",
    "\n"
   ]
  },
  {
   "cell_type": "code",
   "execution_count": 219,
   "metadata": {},
   "outputs": [
    {
     "data": {
      "text/plain": [
       "'TV'"
      ]
     },
     "execution_count": 219,
     "metadata": {},
     "output_type": "execute_result"
    }
   ],
   "source": [
    "#Type\n",
    "str(soup.find_all('a', href = re.compile(r'type*'))[0].contents[0].strip())"
   ]
  },
  {
   "cell_type": "code",
   "execution_count": 223,
   "metadata": {},
   "outputs": [
    {
     "data": {
      "text/plain": [
       "['TV']"
      ]
     },
     "execution_count": 223,
     "metadata": {},
     "output_type": "execute_result"
    }
   ],
   "source": [
    "#type\n",
    "Type = []\n",
    "try:\n",
    "    Type.append(str(soup.find_all('a', href = re.compile(r'type*'))[0].contents[0].strip()))\n",
    "except:\n",
    "    Type.append(\" \")\n",
    "Type"
   ]
  },
  {
   "cell_type": "code",
   "execution_count": 215,
   "metadata": {},
   "outputs": [
    {
     "data": {
      "text/plain": [
       "'After a horrific alchemy experiment goes wrong in the Elric household, brothers Edward and Alphonse are left in a catastrophic new reality. Ignoring the alchemical principle banning human transmutation, the boys attempted to bring their recently deceased mother back to life. Instead, they suffered brutal personal loss: Alphonse\\'s body disintegrated while Edward lost a leg and then sacrificed an arm to keep Alphonse\\'s soul in the physical realm by binding it to a hulking suit of armor.The brothers are rescued by their neighbor Pinako Rockbell and her granddaughter Winry. Known as a bio-mechanical engineering prodigy, Winry creates prosthetic limbs for Edward by utilizing \"automail,\" a tough, versatile metal used in robots and combat armor. After years of training, the Elric brothers set off on a quest to restore their bodies by locating the Philosopher\\'s Stone—a powerful gem that allows an alchemist to defy the traditional laws of Equivalent Exchange.As Edward becomes an infamous alchemist and gains the nickname \"Fullmetal,\" the boys\\' journey embroils them in a growing conspiracy that threatens the fate of the world.[Written by MAL Rewrite]'"
      ]
     },
     "execution_count": 215,
     "metadata": {},
     "output_type": "execute_result"
    }
   ],
   "source": [
    "#synopsis\n",
    "soup.find_all(\"p\", itemprop = \"description\")[0].text.strip().replace('\\n', '').replace('  ', '')"
   ]
  },
  {
   "cell_type": "code",
   "execution_count": 217,
   "metadata": {},
   "outputs": [
    {
     "data": {
      "text/plain": [
       "['After a horrific alchemy experiment goes wrong in the Elric household, brothers Edward and Alphonse are left in a catastrophic new reality. Ignoring the alchemical principle banning human transmutation, the boys attempted to bring their recently deceased mother back to life. Instead, they suffered brutal personal loss: Alphonse\\'s body disintegrated while Edward lost a leg and then sacrificed an arm to keep Alphonse\\'s soul in the physical realm by binding it to a hulking suit of armor.The brothers are rescued by their neighbor Pinako Rockbell and her granddaughter Winry. Known as a bio-mechanical engineering prodigy, Winry creates prosthetic limbs for Edward by utilizing \"automail,\" a tough, versatile metal used in robots and combat armor. After years of training, the Elric brothers set off on a quest to restore their bodies by locating the Philosopher\\'s Stone—a powerful gem that allows an alchemist to defy the traditional laws of Equivalent Exchange.As Edward becomes an infamous alchemist and gains the nickname \"Fullmetal,\" the boys\\' journey embroils them in a growing conspiracy that threatens the fate of the world.[Written by MAL Rewrite]']"
      ]
     },
     "execution_count": 217,
     "metadata": {},
     "output_type": "execute_result"
    }
   ],
   "source": [
    "#synopsis\n",
    "sinossi = []\n",
    "try:\n",
    "    sinossi.append(soup.find_all(\"p\", itemprop = \"description\")[0].text.strip().replace('\\n', '').replace('  ', ''))\n",
    "except:\n",
    "    sinossi.append(\" \")   \n",
    "    \n",
    "sinossi    \n",
    "    \n",
    "    \n",
    "    \n",
    "    "
   ]
  },
  {
   "cell_type": "code",
   "execution_count": 213,
   "metadata": {},
   "outputs": [
    {
     "data": {
      "text/plain": [
       "1"
      ]
     },
     "execution_count": 213,
     "metadata": {},
     "output_type": "execute_result"
    }
   ],
   "source": [
    "#Rank\n",
    "int(soup.find_all(\"span\", {\"class\": \"numbers ranked\"})[0].contents[1].text.\\\n",
    "    replace('\\n', '').replace('#', '').split()[0])"
   ]
  },
  {
   "cell_type": "code",
   "execution_count": 226,
   "metadata": {},
   "outputs": [
    {
     "data": {
      "text/plain": [
       "[1]"
      ]
     },
     "execution_count": 226,
     "metadata": {},
     "output_type": "execute_result"
    }
   ],
   "source": [
    "#Rank\n",
    "ranking = []\n",
    "try:\n",
    "    ranking.append(int(soup.find_all(\"span\", {\"class\": \"numbers ranked\"})[0].contents[1].text.\\\n",
    "    replace('\\n', '').replace('#', '').split()[0]))\n",
    "except:\n",
    "    ranking.append(\" \") \n",
    "ranking"
   ]
  },
  {
   "cell_type": "code",
   "execution_count": 236,
   "metadata": {},
   "outputs": [
    {
     "data": {
      "text/plain": [
       "3"
      ]
     },
     "execution_count": 236,
     "metadata": {},
     "output_type": "execute_result"
    }
   ],
   "source": [
    "#Popularity\n",
    "int(soup.find_all(\"span\", {\"class\": \"numbers popularity\"})[0].contents[1].text.\\\n",
    "    replace('\\n', '').replace('#', '').split()[0])"
   ]
  },
  {
   "cell_type": "code",
   "execution_count": 235,
   "metadata": {},
   "outputs": [
    {
     "data": {
      "text/plain": [
       "[3]"
      ]
     },
     "execution_count": 235,
     "metadata": {},
     "output_type": "execute_result"
    }
   ],
   "source": [
    "#Popularity\n",
    "popu = []\n",
    "try:\n",
    "    popu.append(int(soup.find_all(\"span\", {\"class\": \"numbers popularity\"})[0].contents[1].text.\\\n",
    "    replace('\\n', '').replace('#', '').split()[0]))\n",
    "except:\n",
    "    popu.append(\" \") \n",
    "popu"
   ]
  },
  {
   "cell_type": "code",
   "execution_count": 232,
   "metadata": {},
   "outputs": [
    {
     "data": {
      "text/plain": [
       "'2674846'"
      ]
     },
     "execution_count": 232,
     "metadata": {},
     "output_type": "execute_result"
    }
   ],
   "source": [
    "#Members\n",
    "int(soup.find_all(\"span\", {\"class\": \"numbers members\"})[0].contents[1].text.\\\n",
    "    replace('\\n', '').replace(',', '').split()[0])"
   ]
  },
  {
   "cell_type": "code",
   "execution_count": null,
   "metadata": {},
   "outputs": [],
   "source": [
    "#Members\n",
    "memb = []\n",
    "try:\n",
    "    memb.append(int(soup.find_all(\"span\", {\"class\": \"numbers popularity\"})[0].contents[1].text.\\\n",
    "    replace('\\n', '').replace('#', '').split()[0]))\n",
    "except:\n",
    "    memb.append(\" \") \n",
    "memb"
   ]
  },
  {
   "cell_type": "code",
   "execution_count": 277,
   "metadata": {},
   "outputs": [
    {
     "data": {
      "text/plain": [
       "9.16"
      ]
     },
     "execution_count": 277,
     "metadata": {},
     "output_type": "execute_result"
    }
   ],
   "source": [
    "#Score\n",
    "rating=soup.find(name=\"div\",attrs={\"class\":\"fl-l score\"})\n",
    "float(rating.text.strip())"
   ]
  },
  {
   "cell_type": "code",
   "execution_count": 294,
   "metadata": {},
   "outputs": [
    {
     "data": {
      "text/plain": [
       "[9.16]"
      ]
     },
     "execution_count": 294,
     "metadata": {},
     "output_type": "execute_result"
    }
   ],
   "source": [
    "#Score\n",
    "score = []\n",
    "try:\n",
    "    rating=soup.find(name=\"div\",attrs={\"class\":\"fl-l score\"})\n",
    "    score.append(float(rating.text.strip()))\n",
    "except:\n",
    "    score.append(\" \") \n",
    "score"
   ]
  },
  {
   "cell_type": "code",
   "execution_count": 273,
   "metadata": {},
   "outputs": [
    {
     "data": {
      "text/plain": [
       "[<div class=\"fl-l score\" data-title=\"score\" data-user=\"1,622,384 users\" title=\"indicates a weighted score. Please note that 'Not yet aired' titles are excluded.\">\n",
       " <div class=\"score-label score-9\">\n",
       "                    9.16\n",
       "                   </div>\n",
       " </div>]"
      ]
     },
     "execution_count": 273,
     "metadata": {},
     "output_type": "execute_result"
    }
   ],
   "source": [
    "soup.find_all(\"div\", {\"class\": \"fl-l score\"})"
   ]
  },
  {
   "cell_type": "code",
   "execution_count": 291,
   "metadata": {},
   "outputs": [
    {
     "data": {
      "text/plain": [
       "64"
      ]
     },
     "execution_count": 291,
     "metadata": {},
     "output_type": "execute_result"
    }
   ],
   "source": [
    "#Episodes\n",
    "int(soup.find(name=\"div\",attrs={\"class\":\"lightLink spaceit\"}).text.replace('\\n', '').split()[0])\n"
   ]
  },
  {
   "cell_type": "code",
   "execution_count": 293,
   "metadata": {},
   "outputs": [
    {
     "data": {
      "text/plain": [
       "[64]"
      ]
     },
     "execution_count": 293,
     "metadata": {},
     "output_type": "execute_result"
    }
   ],
   "source": [
    "#Episodes\n",
    "ep= []\n",
    "try:\n",
    "    ep.append(int(soup.find(name=\"div\",attrs={\"class\":\"lightLink spaceit\"}).text.replace('\\n', '').split()[0]))\n",
    "except:\n",
    "    ep.append(\" \") \n",
    "ep"
   ]
  },
  {
   "cell_type": "markdown",
   "metadata": {},
   "source": [
    "# DANIEL CODE"
   ]
  },
  {
   "cell_type": "code",
   "execution_count": 260,
   "metadata": {},
   "outputs": [
    {
     "name": "stdout",
     "output_type": "stream",
     "text": [
      "path:  cartella1/page_1.html\n",
      "path:  cartella1/page_2.html\n",
      "path:  cartella1/page_3.html\n",
      "path:  cartella1/page_4.html\n",
      "path:  cartella1/page_5.html\n",
      "path:  cartella1/page_6.html\n",
      "path:  cartella1/page_7.html\n",
      "path:  cartella1/page_8.html\n",
      "path:  cartella1/page_9.html\n",
      "path:  cartella1/page_10.html\n",
      "path:  cartella1/page_11.html\n",
      "path:  cartella1/page_12.html\n",
      "path:  cartella1/page_13.html\n",
      "path:  cartella1/page_14.html\n",
      "path:  cartella1/page_15.html\n",
      "path:  cartella1/page_16.html\n",
      "path:  cartella1/page_17.html\n",
      "path:  cartella1/page_18.html\n",
      "path:  cartella1/page_19.html\n",
      "path:  cartella1/page_20.html\n",
      "path:  cartella1/page_21.html\n",
      "path:  cartella1/page_22.html\n",
      "path:  cartella1/page_23.html\n",
      "path:  cartella1/page_24.html\n",
      "path:  cartella1/page_25.html\n",
      "path:  cartella1/page_26.html\n",
      "path:  cartella1/page_27.html\n",
      "path:  cartella1/page_28.html\n",
      "path:  cartella1/page_29.html\n",
      "path:  cartella1/page_30.html\n",
      "path:  cartella1/page_31.html\n",
      "path:  cartella1/page_32.html\n",
      "path:  cartella1/page_33.html\n",
      "path:  cartella1/page_34.html\n",
      "path:  cartella1/page_35.html\n",
      "path:  cartella1/page_36.html\n",
      "path:  cartella1/page_37.html\n",
      "path:  cartella1/page_38.html\n",
      "path:  cartella1/page_39.html\n",
      "path:  cartella1/page_40.html\n",
      "path:  cartella1/page_41.html\n",
      "path:  cartella1/page_42.html\n",
      "path:  cartella1/page_43.html\n",
      "path:  cartella1/page_44.html\n",
      "path:  cartella1/page_45.html\n",
      "path:  cartella1/page_46.html\n",
      "path:  cartella1/page_47.html\n",
      "path:  cartella1/page_48.html\n",
      "path:  cartella1/page_49.html\n",
      "path:  cartella1/page_50.html\n",
      "path:  cartella2/page_51.html\n",
      "path:  cartella2/page_52.html\n",
      "path:  cartella2/page_53.html\n",
      "path:  cartella2/page_54.html\n",
      "path:  cartella2/page_55.html\n",
      "path:  cartella2/page_56.html\n",
      "path:  cartella2/page_57.html\n",
      "path:  cartella2/page_58.html\n",
      "path:  cartella2/page_59.html\n",
      "path:  cartella2/page_60.html\n",
      "path:  cartella2/page_61.html\n",
      "path:  cartella2/page_62.html\n",
      "path:  cartella2/page_63.html\n",
      "path:  cartella2/page_64.html\n",
      "path:  cartella2/page_65.html\n",
      "path:  cartella2/page_66.html\n",
      "path:  cartella2/page_67.html\n",
      "path:  cartella2/page_68.html\n",
      "path:  cartella2/page_69.html\n",
      "path:  cartella2/page_70.html\n",
      "path:  cartella2/page_71.html\n",
      "path:  cartella2/page_72.html\n",
      "path:  cartella2/page_73.html\n",
      "path:  cartella2/page_74.html\n",
      "path:  cartella2/page_75.html\n",
      "path:  cartella2/page_76.html\n",
      "path:  cartella2/page_77.html\n",
      "path:  cartella2/page_78.html\n",
      "path:  cartella2/page_79.html\n",
      "path:  cartella2/page_80.html\n",
      "path:  cartella2/page_81.html\n",
      "path:  cartella2/page_82.html\n",
      "path:  cartella2/page_83.html\n",
      "path:  cartella2/page_84.html\n"
     ]
    },
    {
     "ename": "AttributeError",
     "evalue": "'int' object has no attribute 'a'",
     "output_type": "error",
     "traceback": [
      "\u001b[1;31m---------------------------------------------------------------------------\u001b[0m",
      "\u001b[1;31mAttributeError\u001b[0m                            Traceback (most recent call last)",
      "\u001b[1;32m~\\AppData\\Local\\Temp/ipykernel_2468/4093906291.py\u001b[0m in \u001b[0;36m<module>\u001b[1;34m\u001b[0m\n\u001b[0;32m     14\u001b[0m         \u001b[0mpath\u001b[0m \u001b[1;33m=\u001b[0m \u001b[1;34m\"cartella{}\"\u001b[0m\u001b[1;33m.\u001b[0m\u001b[0mformat\u001b[0m\u001b[1;33m(\u001b[0m\u001b[0mnumber\u001b[0m\u001b[1;33m)\u001b[0m \u001b[1;33m+\u001b[0m \u001b[1;34m\"/page_{}.html\"\u001b[0m\u001b[1;33m.\u001b[0m\u001b[0mformat\u001b[0m\u001b[1;33m(\u001b[0m\u001b[0mc\u001b[0m\u001b[1;33m+\u001b[0m\u001b[1;36m1\u001b[0m\u001b[1;33m)\u001b[0m\u001b[1;33m\u001b[0m\u001b[1;33m\u001b[0m\u001b[0m\n\u001b[0;32m     15\u001b[0m         \u001b[0mprint\u001b[0m\u001b[1;33m(\u001b[0m\u001b[1;34m\"path: \"\u001b[0m\u001b[1;33m,\u001b[0m \u001b[0mpath\u001b[0m\u001b[1;33m)\u001b[0m\u001b[1;33m\u001b[0m\u001b[1;33m\u001b[0m\u001b[0m\n\u001b[1;32m---> 16\u001b[1;33m         \u001b[0mtsv_writer\u001b[0m\u001b[1;33m.\u001b[0m\u001b[0mwriterow\u001b[0m\u001b[1;33m(\u001b[0m\u001b[0mextractData\u001b[0m\u001b[1;33m(\u001b[0m\u001b[0mpath\u001b[0m\u001b[1;33m)\u001b[0m\u001b[1;33m)\u001b[0m\u001b[1;33m\u001b[0m\u001b[1;33m\u001b[0m\u001b[0m\n\u001b[0m\u001b[0;32m     17\u001b[0m         \u001b[0mc\u001b[0m \u001b[1;33m=\u001b[0m \u001b[0mc\u001b[0m \u001b[1;33m+\u001b[0m \u001b[1;36m1\u001b[0m\u001b[1;33m\u001b[0m\u001b[1;33m\u001b[0m\u001b[0m\n",
      "\u001b[1;32m~\\AppData\\Local\\Temp/ipykernel_2468/3413005614.py\u001b[0m in \u001b[0;36mextractData\u001b[1;34m(pagePath)\u001b[0m\n\u001b[0;32m     22\u001b[0m         \u001b[1;31m#print(\"Animeinfo: \", animeInfo)\u001b[0m\u001b[1;33m\u001b[0m\u001b[1;33m\u001b[0m\u001b[1;33m\u001b[0m\u001b[0m\n\u001b[0;32m     23\u001b[0m \u001b[1;33m\u001b[0m\u001b[0m\n\u001b[1;32m---> 24\u001b[1;33m         \u001b[0manimeType\u001b[0m \u001b[1;33m=\u001b[0m \u001b[1;34m\" \"\u001b[0m\u001b[1;33m.\u001b[0m\u001b[0mjoin\u001b[0m\u001b[1;33m(\u001b[0m\u001b[1;33m(\u001b[0m\u001b[0mfindField\u001b[0m\u001b[1;33m(\u001b[0m\u001b[0manimeInfo\u001b[0m\u001b[1;33m,\u001b[0m \u001b[1;34m\"Type:\"\u001b[0m\u001b[1;33m)\u001b[0m\u001b[1;33m.\u001b[0m\u001b[0ma\u001b[0m\u001b[1;33m.\u001b[0m\u001b[0mtext\u001b[0m\u001b[1;33m)\u001b[0m\u001b[1;33m.\u001b[0m\u001b[0msplit\u001b[0m\u001b[1;33m(\u001b[0m\u001b[1;33m)\u001b[0m\u001b[1;33m)\u001b[0m\u001b[1;33m\u001b[0m\u001b[1;33m\u001b[0m\u001b[0m\n\u001b[0m\u001b[0;32m     25\u001b[0m         \u001b[1;31m#print(\"animeType :\", animeType)\u001b[0m\u001b[1;33m\u001b[0m\u001b[1;33m\u001b[0m\u001b[1;33m\u001b[0m\u001b[0m\n\u001b[0;32m     26\u001b[0m \u001b[1;33m\u001b[0m\u001b[0m\n",
      "\u001b[1;31mAttributeError\u001b[0m: 'int' object has no attribute 'a'"
     ]
    }
   ],
   "source": [
    "nFolders = 400\n",
    "c = 0\n",
    "url_file = \"urls.txt\"\n",
    "num_lines = sum(1 for line in open(url_file))\n",
    "pagesPerFolder = num_lines/nFolders\n",
    "outputTSV = \"dataset.tsv\"\n",
    "\n",
    "with open(outputTSV, 'wt') as out_file:\n",
    "    tsv_writer = csv.writer(out_file, delimiter='\\t')\n",
    "    tsv_writer.writerow([\"animeTitle\", \"animeType\", \"animeNumEpisode\", \"releaseDate\", \"endDate\", \"animeNumMembers\", \"animeScore\", \"animeUsers\", \"animeRank\", \"animePopularity\", \"animeDescription\", \"animeRelated\", \"animeCharacters\", \"animeVoices\", \"animeStaff\"])\n",
    "    for x in range(1, 20000 +1):\n",
    "\n",
    "        number = int(c/(pagesPerFolder)) + 1\n",
    "        path = \"cartella{}\".format(number) + \"/page_{}.html\".format(c+1)\n",
    "        print(\"path: \", path)\n",
    "        tsv_writer.writerow(extractData(path))\n",
    "        c = c + 1"
   ]
  },
  {
   "cell_type": "code",
   "execution_count": 256,
   "metadata": {},
   "outputs": [
    {
     "name": "stdout",
     "output_type": "stream",
     "text": [
      "['Shiguang Dailiren (Link Click) - MyAnimeList.net', 'ONA', 11, datetime.datetime(2021, 4, 3, 0, 0), datetime.datetime(2021, 7, 9, 0, 0), 131268, 8.86, 33258, 23, 1361, 'It is said that a picture is worth a thousand words. In this case, it holds an infinite amount of secrets. These are secrets that only Cheng Xiaoshi and Lu Guang are able to find. In a small shop called \"Time Photo Studio,\" the two friends provide a special service: using their extraordinary powers that let them enter photographs, they jump into pictures brought to them by clients in order to grant their wishes. Through the eyes of the photographer, they live through the events surrounding the picture and try to decipher how to solve their client\\'s request.But every time they jump into a picture, they take a great risk. One wrong move and they could alter the future of the person who took the picture... and possibly countless other events too. So when the events they are forced to live through in these pictures start to become personal, it will take the utmost strength to push their feelings aside and focus on accomplishing the task they were paid to do.[Written by MAL Rewrite]', ['Shiguang Dailiren Fan Wai Pian: Biwu Zhaoqin', 'Shiguang Dailiren 2nd Season', 'Shiguang Dailiren Specials'], ['Cheng, Xiaoshi', 'Lu, Guang', 'Qiao, Ling', 'Liu, Min', 'Yu, Xia', 'Lin, Zhen'], [], '']\n"
     ]
    }
   ],
   "source": [
    "months = ['Jan', 'Feb', 'Mar', 'Apr', 'May', 'Jun','Jul', 'Aug', 'Sep', 'Oct', 'Nov', 'Dec']\n",
    "\n",
    "pagePath = \"cartella1/page_23.html\"\n",
    "\n",
    "def findField(array, word):\n",
    "    for x in array:\n",
    "        #print(\"#####################################\")\n",
    "        #print(\" \".join((x.find(\"span\").text).split()))\n",
    "        #print(\"#####################################\")\n",
    "        if \" \".join((x.find(\"span\").text).split()) == word:\n",
    "            return x\n",
    "    return -1\n",
    "        \n",
    "\n",
    "def extractData(pagePath):\n",
    "    with open(pagePath, encoding=\"utf-8\") as fp:\n",
    "        soup = BeautifulSoup(fp, \"html.parser\")\n",
    "        animeTitle = \" \".join((soup.html.head.title.text).split())\n",
    "        \n",
    "        #print(\"animeTitle: \", animeTitle)\n",
    "        animeInfo = (soup.find_all(\"div\",  attrs={ \"class\" : \"spaceit_pad\"}))\n",
    "        #print(\"Animeinfo: \", animeInfo)\n",
    "        \n",
    "        animeType = \" \".join((findField(animeInfo, \"Type:\").a.text).split())\n",
    "        #print(\"animeType :\", animeType)\n",
    "        \n",
    "        animeNumEpisode = int(list(filter(lambda y: y != '',list(map(lambda x: \" \".join((x).split()),findField(animeInfo, \"Episodes:\").findAll(text=True, recursive=False)) )))[0])\n",
    "        #print(\"animeNumEpisode: \", animeNumEpisode)\n",
    "        \n",
    "        aired = list(filter(lambda y: y != '',list(map(lambda x: \" \".join((x).split()),findField(animeInfo, \"Aired:\").findAll(text=True, recursive=False)) )))[0].split('to')\n",
    "        releaseDate = datetime.datetime(int(aired[0].split()[2]), months.index(aired[0].split()[0])+1 , int(aired[0].split()[1][:1]))\n",
    "        if len(aired) == 2:\n",
    "            endDate = datetime.datetime(int(aired[1].split()[2]), months.index(aired[1].split()[0])+1 , int(aired[1].split()[1][:1]))\n",
    "        else:\n",
    "            endDate = \"\"\n",
    "        #print(\"releaseDate: \", releaseDate)\n",
    "        #print(\"endDate: \", endDate)\n",
    "        \n",
    "        animeNumMembers = int(list(filter(lambda y: y != '',list(map(lambda x: \" \".join((x).split()),findField(animeInfo, \"Members:\").findAll(text=True, recursive=False)) )))[0].replace(\",\", \"\"))\n",
    "        #print(\"animeNumMembers: \", animeNumMembers)\n",
    "        \n",
    "        animeScore = float(\" \".join((soup.find_all(\"span\", itemprop = \"ratingValue\")[0].text).split()))\n",
    "        #print(\"animeScore: \", animeScore)\n",
    "        \n",
    "        animeUsers = int(\" \".join((soup.find_all(\"span\", itemprop = \"ratingCount\")[0].text).split()))\n",
    "        #print(\"animeUsers: \", animeUsers)\n",
    "        \n",
    "        animeRank = int(list(filter(lambda x: x[0] == '#',findField(animeInfo, \"Ranked:\").text.split()))[0].replace('#',''))\n",
    "        #print(\"animeRank: \", animeRank)\n",
    "\n",
    "        animePopularity = int(list(filter(lambda y: y != '',list(map(lambda x: \" \".join((x).split()),findField(animeInfo, \"Popularity:\").findAll(text=True, recursive=False)) )))[0].replace(\"#\", \"\"))\n",
    "        #print(\"animePopularity: \", animePopularity)\n",
    "        \n",
    "        animeDescription = soup.find_all(\"p\", itemprop = \"description\")[0].text.strip().replace('\\n', '').replace('  ', '')\n",
    "        #print(\"animeDescription: \", animeDescription)\n",
    "        \n",
    "        animeRelatedAHref = soup.find(name=\"table\",attrs={\"class\":\"anime_detail_related_anime\"}).findChildren('a', href=True)\n",
    "        animeRelated = []\n",
    "        for x in animeRelatedAHref:\n",
    "            aux = \" \".join((x.text).split())\n",
    "            if aux not in animeRelated:\n",
    "                animeRelated.append(aux)\n",
    "        #print(\"animeRelated: \", animeRelated)\n",
    "        \n",
    "        animeCharactersRaw = soup.find_all(\"h3\", attrs={\"class\" : \"h3_characters_voice_actors\"})\n",
    "        animeCharacters = []\n",
    "        for x in animeCharactersRaw:\n",
    "            animeCharacters.append(\" \".join((x.text).split()))\n",
    "        #print(\"animeCharacters: \", animeCharacters)\n",
    "        \n",
    "        animeVoicesRaw = soup.find_all(\"td\", attrs={\"class\" : \"va-t ar pl4 pr4\"})\n",
    "        animeVoices = []\n",
    "        for x in animeVoicesRaw:\n",
    "            animeVoices.append(\" \".join((x.contents[1].text).split()))\n",
    "        #print(\"animeVoices: \", animeVoices)\n",
    "        \n",
    "        animeStaff = \"\"\n",
    "        if(len(soup.find_all(\"div\", attrs={\"class\" : \"detail-characters-list clearfix\"})) == 2):\n",
    "            aux = soup.find_all(\"div\", attrs={\"class\" : \"detail-characters-list clearfix\"})[1]\n",
    "            animeStaffRaw = []\n",
    "            for x in aux.findChildren('a'):\n",
    "                if (\" \".join((x.text).split()) != ''):\n",
    "                    animeStaffRaw.append(\" \".join((x.text).split()))\n",
    "            animeStaffTaskRaw = []\n",
    "            for x in aux.findChildren('small'):\n",
    "                animeStaffTaskRaw.append(\" \".join((x.text).split()))\n",
    "            #print(\"animeStaffRaw: \", animeStaffRaw)\n",
    "            #print(\"animeStaffTaskRaw: \", animeStaffTaskRaw)\n",
    "            animeStaff = [list(a) for a in zip(animeStaffRaw, animeStaffTaskRaw)]\n",
    "\n",
    "        \n",
    "        #print(\"animeStaff: \", animeStaff)\n",
    "        \n",
    "        return [animeTitle, animeType, animeNumEpisode, releaseDate, endDate, animeNumMembers, animeScore, animeUsers, animeRank, animePopularity, animeDescription, animeRelated, animeCharacters, animeVoices, animeStaff]\n",
    "    \n",
    "print(extractData(pagePath))"
   ]
  },
  {
   "cell_type": "code",
   "execution_count": null,
   "metadata": {},
   "outputs": [],
   "source": []
  }
 ],
 "metadata": {
  "kernelspec": {
   "display_name": "Python 3 (ipykernel)",
   "language": "python",
   "name": "python3"
  },
  "language_info": {
   "codemirror_mode": {
    "name": "ipython",
    "version": 3
   },
   "file_extension": ".py",
   "mimetype": "text/x-python",
   "name": "python",
   "nbconvert_exporter": "python",
   "pygments_lexer": "ipython3",
   "version": "3.8.8"
  }
 },
 "nbformat": 4,
 "nbformat_minor": 4
}
