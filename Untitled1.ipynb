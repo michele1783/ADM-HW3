{
 "cells": [
  {
   "cell_type": "code",
   "execution_count": 110,
   "metadata": {},
   "outputs": [],
   "source": [
    "import requests\n",
    "import datetime\n",
    "from tqdm import tqdm\n",
    "from bs4 import BeautifulSoup\n",
    "from pathlib import Path\n",
    "import lxml\n",
    "import shutil\n",
    "import functions as fun\n",
    "import urllib.request\n",
    "import urllib.error as uer\n",
    "import time\n",
    "import re"
   ]
  },
  {
   "cell_type": "code",
   "execution_count": 284,
   "metadata": {},
   "outputs": [],
   "source": [
    "#soup = BeautifulSoup(open(\"cartella1/page_{}.html\".format(i)), features = \"lxml\")\n",
    "soup = BeautifulSoup(open(\"cartella1/page_1.html\"), features = \"lxml\")"
   ]
  },
  {
   "cell_type": "code",
   "execution_count": null,
   "metadata": {},
   "outputs": [],
   "source": [
    "#title\n",
    "soup.title.contents[0].replace('\\n', '').replace(\"- MyAnimeList.net\", '').strip()"
   ]
  },
  {
   "cell_type": "code",
   "execution_count": 86,
   "metadata": {},
   "outputs": [
    {
     "data": {
      "text/plain": [
       "'Fullmetal Alchemist: Brotherhood'"
      ]
     },
     "execution_count": 86,
     "metadata": {},
     "output_type": "execute_result"
    }
   ],
   "source": [
    "#title\n",
    "try:\n",
    "    Title = []\n",
    "    Title.append(soup.title.contents[0].replace('\\n', '').replace(\"- MyAnimeList.net\", '').strip())\n",
    "except:\n",
    "    Title.append(\" \")\n",
    "\n",
    "\n",
    "\n"
   ]
  },
  {
   "cell_type": "code",
   "execution_count": 219,
   "metadata": {},
   "outputs": [
    {
     "data": {
      "text/plain": [
       "'TV'"
      ]
     },
     "execution_count": 219,
     "metadata": {},
     "output_type": "execute_result"
    }
   ],
   "source": [
    "#Type\n",
    "str(soup.find_all('a', href = re.compile(r'type*'))[0].contents[0].strip())"
   ]
  },
  {
   "cell_type": "code",
   "execution_count": 223,
   "metadata": {},
   "outputs": [
    {
     "data": {
      "text/plain": [
       "['TV']"
      ]
     },
     "execution_count": 223,
     "metadata": {},
     "output_type": "execute_result"
    }
   ],
   "source": [
    "#type\n",
    "Type = []\n",
    "try:\n",
    "    Type.append(str(soup.find_all('a', href = re.compile(r'type*'))[0].contents[0].strip()))\n",
    "except:\n",
    "    Type.append(\" \")\n",
    "Type"
   ]
  },
  {
   "cell_type": "code",
   "execution_count": 215,
   "metadata": {},
   "outputs": [
    {
     "data": {
      "text/plain": [
       "'After a horrific alchemy experiment goes wrong in the Elric household, brothers Edward and Alphonse are left in a catastrophic new reality. Ignoring the alchemical principle banning human transmutation, the boys attempted to bring their recently deceased mother back to life. Instead, they suffered brutal personal loss: Alphonse\\'s body disintegrated while Edward lost a leg and then sacrificed an arm to keep Alphonse\\'s soul in the physical realm by binding it to a hulking suit of armor.The brothers are rescued by their neighbor Pinako Rockbell and her granddaughter Winry. Known as a bio-mechanical engineering prodigy, Winry creates prosthetic limbs for Edward by utilizing \"automail,\" a tough, versatile metal used in robots and combat armor. After years of training, the Elric brothers set off on a quest to restore their bodies by locating the Philosopher\\'s Stone—a powerful gem that allows an alchemist to defy the traditional laws of Equivalent Exchange.As Edward becomes an infamous alchemist and gains the nickname \"Fullmetal,\" the boys\\' journey embroils them in a growing conspiracy that threatens the fate of the world.[Written by MAL Rewrite]'"
      ]
     },
     "execution_count": 215,
     "metadata": {},
     "output_type": "execute_result"
    }
   ],
   "source": [
    "#synopsis\n",
    "soup.find_all(\"p\", itemprop = \"description\")[0].text.strip().replace('\\n', '').replace('  ', '')"
   ]
  },
  {
   "cell_type": "code",
   "execution_count": 217,
   "metadata": {},
   "outputs": [
    {
     "data": {
      "text/plain": [
       "['After a horrific alchemy experiment goes wrong in the Elric household, brothers Edward and Alphonse are left in a catastrophic new reality. Ignoring the alchemical principle banning human transmutation, the boys attempted to bring their recently deceased mother back to life. Instead, they suffered brutal personal loss: Alphonse\\'s body disintegrated while Edward lost a leg and then sacrificed an arm to keep Alphonse\\'s soul in the physical realm by binding it to a hulking suit of armor.The brothers are rescued by their neighbor Pinako Rockbell and her granddaughter Winry. Known as a bio-mechanical engineering prodigy, Winry creates prosthetic limbs for Edward by utilizing \"automail,\" a tough, versatile metal used in robots and combat armor. After years of training, the Elric brothers set off on a quest to restore their bodies by locating the Philosopher\\'s Stone—a powerful gem that allows an alchemist to defy the traditional laws of Equivalent Exchange.As Edward becomes an infamous alchemist and gains the nickname \"Fullmetal,\" the boys\\' journey embroils them in a growing conspiracy that threatens the fate of the world.[Written by MAL Rewrite]']"
      ]
     },
     "execution_count": 217,
     "metadata": {},
     "output_type": "execute_result"
    }
   ],
   "source": [
    "#synopsis\n",
    "sinossi = []\n",
    "try:\n",
    "    sinossi.append(soup.find_all(\"p\", itemprop = \"description\")[0].text.strip().replace('\\n', '').replace('  ', ''))\n",
    "except:\n",
    "    sinossi.append(\" \")   \n",
    "    \n",
    "sinossi    \n",
    "    \n",
    "    \n",
    "    \n",
    "    "
   ]
  },
  {
   "cell_type": "code",
   "execution_count": 213,
   "metadata": {},
   "outputs": [
    {
     "data": {
      "text/plain": [
       "1"
      ]
     },
     "execution_count": 213,
     "metadata": {},
     "output_type": "execute_result"
    }
   ],
   "source": [
    "#Rank\n",
    "int(soup.find_all(\"span\", {\"class\": \"numbers ranked\"})[0].contents[1].text.\\\n",
    "    replace('\\n', '').replace('#', '').split()[0])"
   ]
  },
  {
   "cell_type": "code",
   "execution_count": 226,
   "metadata": {},
   "outputs": [
    {
     "data": {
      "text/plain": [
       "[1]"
      ]
     },
     "execution_count": 226,
     "metadata": {},
     "output_type": "execute_result"
    }
   ],
   "source": [
    "#Rank\n",
    "ranking = []\n",
    "try:\n",
    "    ranking.append(int(soup.find_all(\"span\", {\"class\": \"numbers ranked\"})[0].contents[1].text.\\\n",
    "    replace('\\n', '').replace('#', '').split()[0]))\n",
    "except:\n",
    "    ranking.append(\" \") \n",
    "ranking"
   ]
  },
  {
   "cell_type": "code",
   "execution_count": 236,
   "metadata": {},
   "outputs": [
    {
     "data": {
      "text/plain": [
       "3"
      ]
     },
     "execution_count": 236,
     "metadata": {},
     "output_type": "execute_result"
    }
   ],
   "source": [
    "#Popularity\n",
    "int(soup.find_all(\"span\", {\"class\": \"numbers popularity\"})[0].contents[1].text.\\\n",
    "    replace('\\n', '').replace('#', '').split()[0])"
   ]
  },
  {
   "cell_type": "code",
   "execution_count": 235,
   "metadata": {},
   "outputs": [
    {
     "data": {
      "text/plain": [
       "[3]"
      ]
     },
     "execution_count": 235,
     "metadata": {},
     "output_type": "execute_result"
    }
   ],
   "source": [
    "#Popularity\n",
    "popu = []\n",
    "try:\n",
    "    popu.append(int(soup.find_all(\"span\", {\"class\": \"numbers popularity\"})[0].contents[1].text.\\\n",
    "    replace('\\n', '').replace('#', '').split()[0]))\n",
    "except:\n",
    "    popu.append(\" \") \n",
    "popu"
   ]
  },
  {
   "cell_type": "code",
   "execution_count": 232,
   "metadata": {},
   "outputs": [
    {
     "data": {
      "text/plain": [
       "'2674846'"
      ]
     },
     "execution_count": 232,
     "metadata": {},
     "output_type": "execute_result"
    }
   ],
   "source": [
    "#Members\n",
    "int(soup.find_all(\"span\", {\"class\": \"numbers members\"})[0].contents[1].text.\\\n",
    "    replace('\\n', '').replace(',', '').split()[0])"
   ]
  },
  {
   "cell_type": "code",
   "execution_count": null,
   "metadata": {},
   "outputs": [],
   "source": [
    "#Members\n",
    "memb = []\n",
    "try:\n",
    "    memb.append(int(soup.find_all(\"span\", {\"class\": \"numbers popularity\"})[0].contents[1].text.\\\n",
    "    replace('\\n', '').replace('#', '').split()[0]))\n",
    "except:\n",
    "    memb.append(\" \") \n",
    "memb"
   ]
  },
  {
   "cell_type": "code",
   "execution_count": 277,
   "metadata": {},
   "outputs": [
    {
     "data": {
      "text/plain": [
       "9.16"
      ]
     },
     "execution_count": 277,
     "metadata": {},
     "output_type": "execute_result"
    }
   ],
   "source": [
    "#Score\n",
    "rating=soup.find(name=\"div\",attrs={\"class\":\"fl-l score\"})\n",
    "float(rating.text.strip())"
   ]
  },
  {
   "cell_type": "code",
   "execution_count": 294,
   "metadata": {},
   "outputs": [
    {
     "data": {
      "text/plain": [
       "[9.16]"
      ]
     },
     "execution_count": 294,
     "metadata": {},
     "output_type": "execute_result"
    }
   ],
   "source": [
    "#Score\n",
    "score = []\n",
    "try:\n",
    "    rating=soup.find(name=\"div\",attrs={\"class\":\"fl-l score\"})\n",
    "    score.append(float(rating.text.strip()))\n",
    "except:\n",
    "    score.append(\" \") \n",
    "score"
   ]
  },
  {
   "cell_type": "code",
   "execution_count": 273,
   "metadata": {},
   "outputs": [
    {
     "data": {
      "text/plain": [
       "[<div class=\"fl-l score\" data-title=\"score\" data-user=\"1,622,384 users\" title=\"indicates a weighted score. Please note that 'Not yet aired' titles are excluded.\">\n",
       " <div class=\"score-label score-9\">\n",
       "                    9.16\n",
       "                   </div>\n",
       " </div>]"
      ]
     },
     "execution_count": 273,
     "metadata": {},
     "output_type": "execute_result"
    }
   ],
   "source": [
    "soup.find_all(\"div\", {\"class\": \"fl-l score\"})"
   ]
  },
  {
   "cell_type": "code",
   "execution_count": 291,
   "metadata": {},
   "outputs": [
    {
     "data": {
      "text/plain": [
       "64"
      ]
     },
     "execution_count": 291,
     "metadata": {},
     "output_type": "execute_result"
    }
   ],
   "source": [
    "#Episodes\n",
    "int(soup.find(name=\"div\",attrs={\"class\":\"lightLink spaceit\"}).text.replace('\\n', '').split()[0])\n"
   ]
  },
  {
   "cell_type": "code",
   "execution_count": 293,
   "metadata": {},
   "outputs": [
    {
     "data": {
      "text/plain": [
       "[64]"
      ]
     },
     "execution_count": 293,
     "metadata": {},
     "output_type": "execute_result"
    }
   ],
   "source": [
    "#Episodes\n",
    "ep= []\n",
    "try:\n",
    "    ep.append(int(soup.find(name=\"div\",attrs={\"class\":\"lightLink spaceit\"}).text.replace('\\n', '').split()[0]))\n",
    "except:\n",
    "    ep.append(\" \") \n",
    "ep"
   ]
  },
  {
   "cell_type": "markdown",
   "metadata": {},
   "source": [
    "DANIEL CODE"
   ]
  },
  {
   "cell_type": "code",
   "execution_count": 123,
   "metadata": {},
   "outputs": [
    {
     "name": "stdout",
     "output_type": "stream",
     "text": [
      "animeTitle:  Fullmetal Alchemist: Brotherhood - MyAnimeList.net\n",
      "animeType : TV\n",
      "animeNumEpisode:  64\n",
      "aired:  ['Apr', '5,', '2009']\n",
      "releaseDate:  2009-04-05 00:00:00\n",
      "endDate:  2010-06-04 00:00:00\n",
      "animeNumMembers:  2674962\n",
      "animeScore:  9.16\n",
      "animeUsers:  1622384\n",
      "animeRank:  1\n",
      "animePopularity:  3\n",
      "animeDescription:  After a horrific alchemy experiment goes wrong in the Elric household, brothers Edward and Alphonse are left in a catastrophic new reality. Ignoring the alchemical principle banning human transmutation, the boys attempted to bring their recently deceased mother back to life. Instead, they suffered brutal personal loss: Alphonse's body disintegrated while Edward lost a leg and then sacrificed an arm to keep Alphonse's soul in the physical realm by binding it to a hulking suit of armor.The brothers are rescued by their neighbor Pinako Rockbell and her granddaughter Winry. Known as a bio-mechanical engineering prodigy, Winry creates prosthetic limbs for Edward by utilizing \"automail,\" a tough, versatile metal used in robots and combat armor. After years of training, the Elric brothers set off on a quest to restore their bodies by locating the Philosopher's Stone—a powerful gem that allows an alchemist to defy the traditional laws of Equivalent Exchange.As Edward becomes an infamous alchemist and gains the nickname \"Fullmetal,\" the boys' journey embroils them in a growing conspiracy that threatens the fate of the world.[Written by MAL Rewrite]\n",
      "animeRelated:  ['Fullmetal Alchemist', 'Fullmetal Alchemist: Brotherhood Specials', 'Fullmetal Alchemist: The Sacred Star of Milos', 'Fullmetal Alchemist: Brotherhood - 4-Koma Theater']\n",
      "animeCharacters:  0\n"
     ]
    }
   ],
   "source": [
    "months = ['Jan', 'Feb', 'Mar', 'Apr', 'May,' 'Jun','Jul', 'Aug', 'Sep', 'Oct', 'Nov', 'Dec']\n",
    "\n",
    "with open(\"cartella1/page_1.html\", encoding=\"utf-8\") as fp:\n",
    "    soup = BeautifulSoup(fp, \"html.parser\")\n",
    "    animeTitle = \" \".join((soup.html.head.title.text).split())\n",
    "    print(\"animeTitle: \", animeTitle)\n",
    "    animeInfo = (soup.find_all(\"div\",  attrs={ \"class\" : \"spaceit_pad\"}))\n",
    "    #print(\"Animeinfo: \", animeInfo)\n",
    "    animeType = \" \".join((animeInfo[3].a.text).split())\n",
    "    print(\"animeType :\", animeType)\n",
    "    animeNumEpisode = int(\" \".join((animeInfo[4].contents[2]).split()))\n",
    "    print(\"animeNumEpisode: \", animeNumEpisode)\n",
    "    #Falta releaseDate y endDate\n",
    "    aired = list(map(lambda x: \" \".join((x).split()),animeInfo[6].contents[2].split('to')))\n",
    "    print(\"aired: \", aired[0].split())\n",
    "    releaseDate = datetime.datetime(int(aired[0].split()[2]), months.index(aired[0].split()[0])+1 , int(aired[0].split()[1][:1]))\n",
    "    endDate = datetime.datetime(int(aired[1].split()[2]), months.index(aired[1].split()[0])+1 , int(aired[1].split()[1][:1]))\n",
    "    print(\"releaseDate: \", releaseDate)\n",
    "    print(\"endDate: \", endDate)\n",
    "    animeNumMembers = int(\" \".join((animeInfo[21].contents[2]).split()).replace(\",\", \"\"))\n",
    "    print(\"animeNumMembers: \", animeNumMembers)\n",
    "    animeScore = float(\" \".join((animeInfo[18].contents[3].text).split()))\n",
    "    print(\"animeScore: \", animeScore)\n",
    "    animeUsers = int(\"\".join(animeInfo[18].contents[7].text))\n",
    "    print(\"animeUsers: \", animeUsers)\n",
    "    animeRank = int(\" \".join((animeInfo[19].contents[2]).split()).replace(\"#\", \"\"))\n",
    "    print(\"animeRank: \", animeRank)\n",
    "    animePopularity = int(\" \".join((animeInfo[20].contents[2]).split()).replace(\"#\", \"\"))\n",
    "    print(\"animePopularity: \", animePopularity)\n",
    "    animeDescription = soup.find_all(\"p\", itemprop = \"description\")[0].text.strip().replace('\\n', '').replace('  ', '')\n",
    "    print(\"animeDescription: \", animeDescription)\n",
    "    animeRelatedAHref = soup.find(name=\"table\",attrs={\"class\":\"anime_detail_related_anime\"}).findChildren('a', href=True)\n",
    "    animeRelated = []\n",
    "    for x in animeRelatedAHref:\n",
    "        aux = \" \".join((x.text).split())\n",
    "        if aux not in animeRelated:\n",
    "            animeRelated.append(aux)\n",
    "    print(\"animeRelated: \", animeRelated)\n",
    "    animeCharacters = 0\n",
    "    print(\"animeCharacters: \", animeCharacters)"
   ]
  },
  {
   "cell_type": "code",
   "execution_count": null,
   "metadata": {},
   "outputs": [],
   "source": []
  }
 ],
 "metadata": {
  "kernelspec": {
   "display_name": "Python 3 (ipykernel)",
   "language": "python",
   "name": "python3"
  },
  "language_info": {
   "codemirror_mode": {
    "name": "ipython",
    "version": 3
   },
   "file_extension": ".py",
   "mimetype": "text/x-python",
   "name": "python",
   "nbconvert_exporter": "python",
   "pygments_lexer": "ipython3",
   "version": "3.8.8"
  }
 },
 "nbformat": 4,
 "nbformat_minor": 4
}
